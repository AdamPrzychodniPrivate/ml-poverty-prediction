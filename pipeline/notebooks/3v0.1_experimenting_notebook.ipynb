{
 "cells": [
  {
   "cell_type": "code",
   "execution_count": null,
   "metadata": {},
   "outputs": [],
   "source": [
    "# Choose which function you need and want to test and add them to makina"
   ]
  },
  {
   "cell_type": "markdown",
   "metadata": {
    "canvas": {
     "comments": [],
     "componentType": "CodeCell",
     "copiedOriginId": null,
     "diskcache": false,
     "headerColor": "transparent",
     "id": "aec900f5-70c9-4f78-b3bf-fffecee8ce60",
     "isComponent": false,
     "name": "",
     "parents": []
    },
    "tags": []
   },
   "source": [
    "# Plan\n",
    "1.\n",
    "2.\n",
    "3."
   ]
  },
  {
   "cell_type": "markdown",
   "metadata": {
    "canvas": {
     "comments": [],
     "componentType": "CodeCell",
     "copiedOriginId": null,
     "diskcache": false,
     "headerColor": "transparent",
     "id": "e2b6ab91-3b90-499b-b28b-2d6e2f2e9425",
     "isComponent": false,
     "name": "",
     "parents": []
    }
   },
   "source": [
    "# Project Structure:\n",
    "1. Abstract\n",
    "2. Load data\n",
    "3. EDA\n",
    "4. Preprocess data\n",
    "5. Feature engineering\n",
    "6. Train, test split\n",
    "7. Modelling\n",
    "8. Model evaluation\n",
    "9. Hyperparameter tuning \n",
    "10. Model Interpretation \n",
    "11. Results and conclusions\n",
    "12. References and Acknowledgments"
   ]
  },
  {
   "cell_type": "markdown",
   "metadata": {
    "canvas": {
     "comments": [],
     "componentType": "CodeCell",
     "copiedOriginId": null,
     "diskcache": false,
     "headerColor": "transparent",
     "id": "2875feb1-5af6-4993-b31b-e038e2498723",
     "isComponent": false,
     "name": "",
     "parents": []
    }
   },
   "source": [
    "# My building blocks for modeling \n",
    "## - EDA\n",
    "## - Preprocessing\n",
    "## - Feature engineering \n",
    "## - Training\n",
    "## - Evaluation"
   ]
  },
  {
   "cell_type": "markdown",
   "metadata": {
    "canvas": {
     "comments": [],
     "componentType": "CodeCell",
     "copiedOriginId": null,
     "diskcache": false,
     "headerColor": "transparent",
     "id": "fd6fc6cf-a02b-4950-a7d1-cec4278105a5",
     "isComponent": false,
     "name": "",
     "parents": []
    }
   },
   "source": [
    "# Abstract"
   ]
  },
  {
   "cell_type": "markdown",
   "metadata": {
    "canvas": {
     "comments": [],
     "componentType": "CodeCell",
     "copiedOriginId": null,
     "diskcache": false,
     "headerColor": "transparent",
     "id": "3843556e-ca86-475a-85f5-a15d03690e69",
     "isComponent": false,
     "name": "",
     "parents": []
    }
   },
   "source": []
  },
  {
   "cell_type": "markdown",
   "metadata": {
    "canvas": {
     "comments": [],
     "componentType": "CodeCell",
     "copiedOriginId": null,
     "diskcache": false,
     "headerColor": "transparent",
     "id": "44ef7fb4-c232-4e0c-b047-d2de204465bd",
     "isComponent": false,
     "name": "",
     "parents": []
    }
   },
   "source": [
    "# Import libraries"
   ]
  },
  {
   "cell_type": "code",
   "execution_count": 30,
   "metadata": {
    "tags": []
   },
   "outputs": [],
   "source": [
    "import numpy as np\n",
    "import pandas as pd"
   ]
  },
  {
   "cell_type": "code",
   "execution_count": null,
   "metadata": {
    "canvas": {
     "comments": [],
     "componentType": "CodeCell",
     "copiedOriginId": null,
     "diskcache": false,
     "headerColor": "transparent",
     "id": "ea9fa070-5a7c-4bdd-abb3-5776a6f8ab2e",
     "isComponent": false,
     "name": "",
     "parents": []
    }
   },
   "outputs": [],
   "source": [
    "# import polars as pl\n",
    "# import numpy as np\n",
    "# import pandas as pd\n",
    "# from ydata_profiling import ProfileReport\n",
    "# import polars as pl\n",
    "# import numpy as np\n",
    "# import pandas as pd\n",
    "# from ydata_profiling import ProfileReport\n",
    "# import plotly.graph_objects as go\n",
    "# import plotly.express as px\n",
    "# import plotly.figure_factory as ff\n",
    "\n",
    "# pd.set_option('display.max_columns', None)"
   ]
  },
  {
   "cell_type": "markdown",
   "metadata": {
    "canvas": {
     "comments": [],
     "componentType": "CodeCell",
     "copiedOriginId": null,
     "diskcache": false,
     "headerColor": "transparent",
     "id": "c97fc0a7-9897-45ef-9c2e-17b9230f3d7c",
     "isComponent": false,
     "name": "",
     "parents": []
    }
   },
   "source": [
    "# Load data"
   ]
  },
  {
   "cell_type": "code",
   "execution_count": 1,
   "metadata": {
    "canvas": {
     "comments": [],
     "componentType": "CodeCell",
     "copiedOriginId": null,
     "diskcache": false,
     "headerColor": "transparent",
     "id": "cddecebd-6b1b-40a8-8989-2bec7cb6138c",
     "isComponent": false,
     "name": "",
     "parents": []
    }
   },
   "outputs": [
    {
     "data": {
      "text/html": [
       "<pre style=\"white-space:pre;overflow-x:auto;line-height:normal;font-family:Menlo,'DejaVu Sans Mono',consolas,'Courier New',monospace\"></pre>\n"
      ],
      "text/plain": []
     },
     "metadata": {},
     "output_type": "display_data"
    },
    {
     "data": {
      "text/plain": [
       "\n",
       "\u001b[1m[\u001b[0m\n",
       "    \u001b[32m'companies'\u001b[0m,\n",
       "    \u001b[32m'reviews'\u001b[0m,\n",
       "    \u001b[32m'shuttles'\u001b[0m,\n",
       "    \u001b[32m'preprocessed_companies'\u001b[0m,\n",
       "    \u001b[32m'preprocessed_shuttles'\u001b[0m,\n",
       "    \u001b[32m'model_input_table'\u001b[0m,\n",
       "    \u001b[32m'regressor'\u001b[0m,\n",
       "    \u001b[32m'metrics'\u001b[0m,\n",
       "    \u001b[32m'companies_columns'\u001b[0m,\n",
       "    \u001b[32m'shuttle_passenger_capacity_plot_exp'\u001b[0m,\n",
       "    \u001b[32m'shuttle_passenger_capacity_plot_go'\u001b[0m,\n",
       "    \u001b[32m'dummy_confusion_matrix'\u001b[0m,\n",
       "    \u001b[32m'data'\u001b[0m,\n",
       "    \u001b[32m'parameters'\u001b[0m,\n",
       "    \u001b[32m'params:variables'\u001b[0m,\n",
       "    \u001b[32m'params:variables.features'\u001b[0m,\n",
       "    \u001b[32m'params:variables.targets'\u001b[0m,\n",
       "    \u001b[32m'params:model_options'\u001b[0m,\n",
       "    \u001b[32m'params:model_options.test_size'\u001b[0m,\n",
       "    \u001b[32m'params:model_options.random_state'\u001b[0m,\n",
       "    \u001b[32m'params:model_options.features'\u001b[0m\n",
       "\u001b[1m]\u001b[0m"
      ]
     },
     "execution_count": 1,
     "metadata": {},
     "output_type": "execute_result"
    }
   ],
   "source": [
    "catalog.list()"
   ]
  },
  {
   "cell_type": "code",
   "execution_count": 2,
   "metadata": {
    "canvas": {
     "comments": [],
     "componentType": "CodeCell",
     "copiedOriginId": null,
     "diskcache": false,
     "headerColor": "transparent",
     "id": "50f371d4-a79f-42fb-92fe-47adcf8bae98",
     "isComponent": false,
     "name": "",
     "parents": []
    }
   },
   "outputs": [
    {
     "data": {
      "text/html": [
       "<pre style=\"white-space:pre;overflow-x:auto;line-height:normal;font-family:Menlo,'DejaVu Sans Mono',consolas,'Courier New',monospace\"><span style=\"color: #7fbfbf; text-decoration-color: #7fbfbf\">[12/28/23 16:00:48] </span><span style=\"color: #000080; text-decoration-color: #000080\">INFO    </span> Loading data from <span style=\"color: #ff8700; text-decoration-color: #ff8700\">data</span> <span style=\"font-weight: bold\">(</span>CSVDataset<span style=\"font-weight: bold\">)</span><span style=\"color: #808000; text-decoration-color: #808000\">...</span>                             <a href=\"file:///home/gitpod/miniconda3/envs/kedro-environment/lib/python3.10/site-packages/kedro/io/data_catalog.py\" target=\"_blank\"><span style=\"color: #7f7f7f; text-decoration-color: #7f7f7f\">data_catalog.py</span></a><span style=\"color: #7f7f7f; text-decoration-color: #7f7f7f\">:</span><a href=\"file:///home/gitpod/miniconda3/envs/kedro-environment/lib/python3.10/site-packages/kedro/io/data_catalog.py#482\" target=\"_blank\"><span style=\"color: #7f7f7f; text-decoration-color: #7f7f7f\">482</span></a>\n",
       "</pre>\n"
      ],
      "text/plain": [
       "\u001b[2;36m[12/28/23 16:00:48]\u001b[0m\u001b[2;36m \u001b[0m\u001b[34mINFO    \u001b[0m Loading data from \u001b[38;5;208mdata\u001b[0m \u001b[1m(\u001b[0mCSVDataset\u001b[1m)\u001b[0m\u001b[33m...\u001b[0m                             \u001b]8;id=32655;file:///home/gitpod/miniconda3/envs/kedro-environment/lib/python3.10/site-packages/kedro/io/data_catalog.py\u001b\\\u001b[2mdata_catalog.py\u001b[0m\u001b]8;;\u001b\\\u001b[2m:\u001b[0m\u001b]8;id=270808;file:///home/gitpod/miniconda3/envs/kedro-environment/lib/python3.10/site-packages/kedro/io/data_catalog.py#482\u001b\\\u001b[2m482\u001b[0m\u001b]8;;\u001b\\\n"
      ]
     },
     "metadata": {},
     "output_type": "display_data"
    }
   ],
   "source": [
    "# Load whole raw data\n",
    "df = catalog.load(\"data\")"
   ]
  },
  {
   "cell_type": "code",
   "execution_count": 3,
   "metadata": {
    "tags": []
   },
   "outputs": [
    {
     "data": {
      "text/html": [
       "<pre style=\"white-space:pre;overflow-x:auto;line-height:normal;font-family:Menlo,'DejaVu Sans Mono',consolas,'Courier New',monospace\"></pre>\n"
      ],
      "text/plain": []
     },
     "metadata": {},
     "output_type": "display_data"
    },
    {
     "data": {
      "text/html": [
       "<div>\n",
       "<style scoped>\n",
       "    .dataframe tbody tr th:only-of-type {\n",
       "        vertical-align: middle;\n",
       "    }\n",
       "\n",
       "    .dataframe tbody tr th {\n",
       "        vertical-align: top;\n",
       "    }\n",
       "\n",
       "    .dataframe thead th {\n",
       "        text-align: right;\n",
       "    }\n",
       "</style>\n",
       "<table border=\"1\" class=\"dataframe\">\n",
       "  <thead>\n",
       "    <tr style=\"text-align: right;\">\n",
       "      <th></th>\n",
       "      <th>Unnamed: 0</th>\n",
       "      <th>URBAN_RURA</th>\n",
       "      <th>alt</th>\n",
       "      <th>chrps</th>\n",
       "      <th>country</th>\n",
       "      <th>deathcount</th>\n",
       "      <th>latnum</th>\n",
       "      <th>longnum</th>\n",
       "      <th>lst</th>\n",
       "      <th>marketm0</th>\n",
       "      <th>...</th>\n",
       "      <th>sif</th>\n",
       "      <th>slope</th>\n",
       "      <th>tree</th>\n",
       "      <th>tt00_500k</th>\n",
       "      <th>year</th>\n",
       "      <th>stunted</th>\n",
       "      <th>wasted</th>\n",
       "      <th>healthy</th>\n",
       "      <th>poorest</th>\n",
       "      <th>underweight_bmi</th>\n",
       "    </tr>\n",
       "  </thead>\n",
       "  <tbody>\n",
       "    <tr>\n",
       "      <th>0</th>\n",
       "      <td>0</td>\n",
       "      <td>1</td>\n",
       "      <td>5.60252</td>\n",
       "      <td>0.437479</td>\n",
       "      <td>Bangladesh</td>\n",
       "      <td>0</td>\n",
       "      <td>22.981516</td>\n",
       "      <td>90.155785</td>\n",
       "      <td>-1.065822</td>\n",
       "      <td>NaN</td>\n",
       "      <td>...</td>\n",
       "      <td>-0.745444</td>\n",
       "      <td>0.021781</td>\n",
       "      <td>16.3438</td>\n",
       "      <td>365.67800</td>\n",
       "      <td>2004</td>\n",
       "      <td>0.294118</td>\n",
       "      <td>0.058824</td>\n",
       "      <td>0.941176</td>\n",
       "      <td>0.071429</td>\n",
       "      <td>0.272727</td>\n",
       "    </tr>\n",
       "    <tr>\n",
       "      <th>1</th>\n",
       "      <td>1</td>\n",
       "      <td>1</td>\n",
       "      <td>4.67774</td>\n",
       "      <td>0.447809</td>\n",
       "      <td>Bangladesh</td>\n",
       "      <td>0</td>\n",
       "      <td>22.444431</td>\n",
       "      <td>90.329185</td>\n",
       "      <td>-0.963057</td>\n",
       "      <td>NaN</td>\n",
       "      <td>...</td>\n",
       "      <td>-0.840625</td>\n",
       "      <td>0.007349</td>\n",
       "      <td>0.0000</td>\n",
       "      <td>397.88600</td>\n",
       "      <td>2004</td>\n",
       "      <td>0.444444</td>\n",
       "      <td>0.000000</td>\n",
       "      <td>1.000000</td>\n",
       "      <td>0.062500</td>\n",
       "      <td>0.400000</td>\n",
       "    </tr>\n",
       "    <tr>\n",
       "      <th>2</th>\n",
       "      <td>2</td>\n",
       "      <td>1</td>\n",
       "      <td>5.14527</td>\n",
       "      <td>0.453208</td>\n",
       "      <td>Bangladesh</td>\n",
       "      <td>0</td>\n",
       "      <td>22.487263</td>\n",
       "      <td>90.206123</td>\n",
       "      <td>-0.963257</td>\n",
       "      <td>NaN</td>\n",
       "      <td>...</td>\n",
       "      <td>-0.841667</td>\n",
       "      <td>0.005347</td>\n",
       "      <td>0.0000</td>\n",
       "      <td>344.36600</td>\n",
       "      <td>2004</td>\n",
       "      <td>0.600000</td>\n",
       "      <td>0.050000</td>\n",
       "      <td>0.950000</td>\n",
       "      <td>0.000000</td>\n",
       "      <td>0.354839</td>\n",
       "    </tr>\n",
       "    <tr>\n",
       "      <th>3</th>\n",
       "      <td>3</td>\n",
       "      <td>1</td>\n",
       "      <td>6.17460</td>\n",
       "      <td>0.433324</td>\n",
       "      <td>Bangladesh</td>\n",
       "      <td>0</td>\n",
       "      <td>23.016359</td>\n",
       "      <td>90.192879</td>\n",
       "      <td>-1.074995</td>\n",
       "      <td>NaN</td>\n",
       "      <td>...</td>\n",
       "      <td>-0.744531</td>\n",
       "      <td>0.027679</td>\n",
       "      <td>16.0333</td>\n",
       "      <td>369.38500</td>\n",
       "      <td>2004</td>\n",
       "      <td>0.500000</td>\n",
       "      <td>0.062500</td>\n",
       "      <td>0.937500</td>\n",
       "      <td>0.062500</td>\n",
       "      <td>0.323529</td>\n",
       "    </tr>\n",
       "    <tr>\n",
       "      <th>4</th>\n",
       "      <td>4</td>\n",
       "      <td>1</td>\n",
       "      <td>5.39076</td>\n",
       "      <td>0.406196</td>\n",
       "      <td>Bangladesh</td>\n",
       "      <td>0</td>\n",
       "      <td>22.952404</td>\n",
       "      <td>90.454414</td>\n",
       "      <td>-1.065344</td>\n",
       "      <td>NaN</td>\n",
       "      <td>...</td>\n",
       "      <td>-0.748497</td>\n",
       "      <td>0.025029</td>\n",
       "      <td>18.7647</td>\n",
       "      <td>273.92400</td>\n",
       "      <td>2004</td>\n",
       "      <td>0.555556</td>\n",
       "      <td>0.000000</td>\n",
       "      <td>1.000000</td>\n",
       "      <td>0.111111</td>\n",
       "      <td>0.277778</td>\n",
       "    </tr>\n",
       "    <tr>\n",
       "      <th>...</th>\n",
       "      <td>...</td>\n",
       "      <td>...</td>\n",
       "      <td>...</td>\n",
       "      <td>...</td>\n",
       "      <td>...</td>\n",
       "      <td>...</td>\n",
       "      <td>...</td>\n",
       "      <td>...</td>\n",
       "      <td>...</td>\n",
       "      <td>...</td>\n",
       "      <td>...</td>\n",
       "      <td>...</td>\n",
       "      <td>...</td>\n",
       "      <td>...</td>\n",
       "      <td>...</td>\n",
       "      <td>...</td>\n",
       "      <td>...</td>\n",
       "      <td>...</td>\n",
       "      <td>...</td>\n",
       "      <td>...</td>\n",
       "      <td>...</td>\n",
       "    </tr>\n",
       "    <tr>\n",
       "      <th>14333</th>\n",
       "      <td>14333</td>\n",
       "      <td>0</td>\n",
       "      <td>212.91400</td>\n",
       "      <td>0.622106</td>\n",
       "      <td>Nigeria</td>\n",
       "      <td>382</td>\n",
       "      <td>7.368560</td>\n",
       "      <td>3.937503</td>\n",
       "      <td>-0.786959</td>\n",
       "      <td>NaN</td>\n",
       "      <td>...</td>\n",
       "      <td>-0.413014</td>\n",
       "      <td>0.508662</td>\n",
       "      <td>0.0000</td>\n",
       "      <td>6.60494</td>\n",
       "      <td>2013</td>\n",
       "      <td>0.250000</td>\n",
       "      <td>0.250000</td>\n",
       "      <td>0.750000</td>\n",
       "      <td>0.000000</td>\n",
       "      <td>0.212121</td>\n",
       "    </tr>\n",
       "    <tr>\n",
       "      <th>14334</th>\n",
       "      <td>14334</td>\n",
       "      <td>1</td>\n",
       "      <td>392.34100</td>\n",
       "      <td>1.081900</td>\n",
       "      <td>Nigeria</td>\n",
       "      <td>311</td>\n",
       "      <td>8.570109</td>\n",
       "      <td>3.547449</td>\n",
       "      <td>-0.804163</td>\n",
       "      <td>NaN</td>\n",
       "      <td>...</td>\n",
       "      <td>-0.269682</td>\n",
       "      <td>0.396409</td>\n",
       "      <td>16.6122</td>\n",
       "      <td>271.40400</td>\n",
       "      <td>2013</td>\n",
       "      <td>0.431373</td>\n",
       "      <td>0.176471</td>\n",
       "      <td>0.784314</td>\n",
       "      <td>0.969697</td>\n",
       "      <td>0.347222</td>\n",
       "    </tr>\n",
       "    <tr>\n",
       "      <th>14335</th>\n",
       "      <td>14335</td>\n",
       "      <td>1</td>\n",
       "      <td>394.41600</td>\n",
       "      <td>1.080867</td>\n",
       "      <td>Nigeria</td>\n",
       "      <td>311</td>\n",
       "      <td>8.765458</td>\n",
       "      <td>3.603125</td>\n",
       "      <td>-0.780643</td>\n",
       "      <td>NaN</td>\n",
       "      <td>...</td>\n",
       "      <td>-0.248022</td>\n",
       "      <td>0.527184</td>\n",
       "      <td>15.6757</td>\n",
       "      <td>227.03800</td>\n",
       "      <td>2013</td>\n",
       "      <td>0.217391</td>\n",
       "      <td>0.000000</td>\n",
       "      <td>0.956522</td>\n",
       "      <td>0.000000</td>\n",
       "      <td>0.097561</td>\n",
       "    </tr>\n",
       "    <tr>\n",
       "      <th>14336</th>\n",
       "      <td>14336</td>\n",
       "      <td>1</td>\n",
       "      <td>389.46400</td>\n",
       "      <td>1.084190</td>\n",
       "      <td>Nigeria</td>\n",
       "      <td>311</td>\n",
       "      <td>8.660406</td>\n",
       "      <td>3.522780</td>\n",
       "      <td>-0.781408</td>\n",
       "      <td>NaN</td>\n",
       "      <td>...</td>\n",
       "      <td>-0.257015</td>\n",
       "      <td>0.390382</td>\n",
       "      <td>21.0244</td>\n",
       "      <td>219.00000</td>\n",
       "      <td>2013</td>\n",
       "      <td>0.195122</td>\n",
       "      <td>0.073171</td>\n",
       "      <td>0.926829</td>\n",
       "      <td>0.379310</td>\n",
       "      <td>0.026316</td>\n",
       "    </tr>\n",
       "    <tr>\n",
       "      <th>14337</th>\n",
       "      <td>14337</td>\n",
       "      <td>0</td>\n",
       "      <td>435.48100</td>\n",
       "      <td>1.094852</td>\n",
       "      <td>Nigeria</td>\n",
       "      <td>311</td>\n",
       "      <td>8.687992</td>\n",
       "      <td>3.412814</td>\n",
       "      <td>-0.899868</td>\n",
       "      <td>NaN</td>\n",
       "      <td>...</td>\n",
       "      <td>-0.223676</td>\n",
       "      <td>0.185043</td>\n",
       "      <td>32.9063</td>\n",
       "      <td>175.32100</td>\n",
       "      <td>2013</td>\n",
       "      <td>0.433333</td>\n",
       "      <td>0.066667</td>\n",
       "      <td>0.933333</td>\n",
       "      <td>0.000000</td>\n",
       "      <td>0.048780</td>\n",
       "    </tr>\n",
       "  </tbody>\n",
       "</table>\n",
       "<p>14338 rows × 117 columns</p>\n",
       "</div>"
      ],
      "text/plain": [
       "\n",
       "       Unnamed: \u001b[1;36m0\u001b[0m  URBAN_RURA        alt     chrps     country  deathcount  \\\n",
       "\u001b[1;36m0\u001b[0m               \u001b[1;36m0\u001b[0m           \u001b[1;36m1\u001b[0m    \u001b[1;36m5.60252\u001b[0m  \u001b[1;36m0.437479\u001b[0m  Bangladesh           \u001b[1;36m0\u001b[0m   \n",
       "\u001b[1;36m1\u001b[0m               \u001b[1;36m1\u001b[0m           \u001b[1;36m1\u001b[0m    \u001b[1;36m4.67774\u001b[0m  \u001b[1;36m0.447809\u001b[0m  Bangladesh           \u001b[1;36m0\u001b[0m   \n",
       "\u001b[1;36m2\u001b[0m               \u001b[1;36m2\u001b[0m           \u001b[1;36m1\u001b[0m    \u001b[1;36m5.14527\u001b[0m  \u001b[1;36m0.453208\u001b[0m  Bangladesh           \u001b[1;36m0\u001b[0m   \n",
       "\u001b[1;36m3\u001b[0m               \u001b[1;36m3\u001b[0m           \u001b[1;36m1\u001b[0m    \u001b[1;36m6.17460\u001b[0m  \u001b[1;36m0.433324\u001b[0m  Bangladesh           \u001b[1;36m0\u001b[0m   \n",
       "\u001b[1;36m4\u001b[0m               \u001b[1;36m4\u001b[0m           \u001b[1;36m1\u001b[0m    \u001b[1;36m5.39076\u001b[0m  \u001b[1;36m0.406196\u001b[0m  Bangladesh           \u001b[1;36m0\u001b[0m   \n",
       "\u001b[33m...\u001b[0m           \u001b[33m...\u001b[0m         \u001b[33m...\u001b[0m        \u001b[33m...\u001b[0m       \u001b[33m...\u001b[0m         \u001b[33m...\u001b[0m         \u001b[33m...\u001b[0m   \n",
       "\u001b[1;36m14333\u001b[0m       \u001b[1;36m14333\u001b[0m           \u001b[1;36m0\u001b[0m  \u001b[1;36m212.91400\u001b[0m  \u001b[1;36m0.622106\u001b[0m     Nigeria         \u001b[1;36m382\u001b[0m   \n",
       "\u001b[1;36m14334\u001b[0m       \u001b[1;36m14334\u001b[0m           \u001b[1;36m1\u001b[0m  \u001b[1;36m392.34100\u001b[0m  \u001b[1;36m1.081900\u001b[0m     Nigeria         \u001b[1;36m311\u001b[0m   \n",
       "\u001b[1;36m14335\u001b[0m       \u001b[1;36m14335\u001b[0m           \u001b[1;36m1\u001b[0m  \u001b[1;36m394.41600\u001b[0m  \u001b[1;36m1.080867\u001b[0m     Nigeria         \u001b[1;36m311\u001b[0m   \n",
       "\u001b[1;36m14336\u001b[0m       \u001b[1;36m14336\u001b[0m           \u001b[1;36m1\u001b[0m  \u001b[1;36m389.46400\u001b[0m  \u001b[1;36m1.084190\u001b[0m     Nigeria         \u001b[1;36m311\u001b[0m   \n",
       "\u001b[1;36m14337\u001b[0m       \u001b[1;36m14337\u001b[0m           \u001b[1;36m0\u001b[0m  \u001b[1;36m435.48100\u001b[0m  \u001b[1;36m1.094852\u001b[0m     Nigeria         \u001b[1;36m311\u001b[0m   \n",
       "\n",
       "          latnum    longnum       lst  marketm0  \u001b[33m...\u001b[0m       sif     slope  \\\n",
       "\u001b[1;36m0\u001b[0m      \u001b[1;36m22.981516\u001b[0m  \u001b[1;36m90.155785\u001b[0m \u001b[1;36m-1.065822\u001b[0m       NaN  \u001b[33m...\u001b[0m \u001b[1;36m-0.745444\u001b[0m  \u001b[1;36m0.021781\u001b[0m   \n",
       "\u001b[1;36m1\u001b[0m      \u001b[1;36m22.444431\u001b[0m  \u001b[1;36m90.329185\u001b[0m \u001b[1;36m-0.963057\u001b[0m       NaN  \u001b[33m...\u001b[0m \u001b[1;36m-0.840625\u001b[0m  \u001b[1;36m0.007349\u001b[0m   \n",
       "\u001b[1;36m2\u001b[0m      \u001b[1;36m22.487263\u001b[0m  \u001b[1;36m90.206123\u001b[0m \u001b[1;36m-0.963257\u001b[0m       NaN  \u001b[33m...\u001b[0m \u001b[1;36m-0.841667\u001b[0m  \u001b[1;36m0.005347\u001b[0m   \n",
       "\u001b[1;36m3\u001b[0m      \u001b[1;36m23.016359\u001b[0m  \u001b[1;36m90.192879\u001b[0m \u001b[1;36m-1.074995\u001b[0m       NaN  \u001b[33m...\u001b[0m \u001b[1;36m-0.744531\u001b[0m  \u001b[1;36m0.027679\u001b[0m   \n",
       "\u001b[1;36m4\u001b[0m      \u001b[1;36m22.952404\u001b[0m  \u001b[1;36m90.454414\u001b[0m \u001b[1;36m-1.065344\u001b[0m       NaN  \u001b[33m...\u001b[0m \u001b[1;36m-0.748497\u001b[0m  \u001b[1;36m0.025029\u001b[0m   \n",
       "\u001b[33m...\u001b[0m          \u001b[33m...\u001b[0m        \u001b[33m...\u001b[0m       \u001b[33m...\u001b[0m       \u001b[33m...\u001b[0m  \u001b[33m...\u001b[0m       \u001b[33m...\u001b[0m       \u001b[33m...\u001b[0m   \n",
       "\u001b[1;36m14333\u001b[0m   \u001b[1;36m7.368560\u001b[0m   \u001b[1;36m3.937503\u001b[0m \u001b[1;36m-0.786959\u001b[0m       NaN  \u001b[33m...\u001b[0m \u001b[1;36m-0.413014\u001b[0m  \u001b[1;36m0.508662\u001b[0m   \n",
       "\u001b[1;36m14334\u001b[0m   \u001b[1;36m8.570109\u001b[0m   \u001b[1;36m3.547449\u001b[0m \u001b[1;36m-0.804163\u001b[0m       NaN  \u001b[33m...\u001b[0m \u001b[1;36m-0.269682\u001b[0m  \u001b[1;36m0.396409\u001b[0m   \n",
       "\u001b[1;36m14335\u001b[0m   \u001b[1;36m8.765458\u001b[0m   \u001b[1;36m3.603125\u001b[0m \u001b[1;36m-0.780643\u001b[0m       NaN  \u001b[33m...\u001b[0m \u001b[1;36m-0.248022\u001b[0m  \u001b[1;36m0.527184\u001b[0m   \n",
       "\u001b[1;36m14336\u001b[0m   \u001b[1;36m8.660406\u001b[0m   \u001b[1;36m3.522780\u001b[0m \u001b[1;36m-0.781408\u001b[0m       NaN  \u001b[33m...\u001b[0m \u001b[1;36m-0.257015\u001b[0m  \u001b[1;36m0.390382\u001b[0m   \n",
       "\u001b[1;36m14337\u001b[0m   \u001b[1;36m8.687992\u001b[0m   \u001b[1;36m3.412814\u001b[0m \u001b[1;36m-0.899868\u001b[0m       NaN  \u001b[33m...\u001b[0m \u001b[1;36m-0.223676\u001b[0m  \u001b[1;36m0.185043\u001b[0m   \n",
       "\n",
       "          tree  tt00_500k  year   stunted    wasted   healthy   poorest  \\\n",
       "\u001b[1;36m0\u001b[0m      \u001b[1;36m16.3438\u001b[0m  \u001b[1;36m365.67800\u001b[0m  \u001b[1;36m2004\u001b[0m  \u001b[1;36m0.294118\u001b[0m  \u001b[1;36m0.058824\u001b[0m  \u001b[1;36m0.941176\u001b[0m  \u001b[1;36m0.071429\u001b[0m   \n",
       "\u001b[1;36m1\u001b[0m       \u001b[1;36m0.0000\u001b[0m  \u001b[1;36m397.88600\u001b[0m  \u001b[1;36m2004\u001b[0m  \u001b[1;36m0.444444\u001b[0m  \u001b[1;36m0.000000\u001b[0m  \u001b[1;36m1.000000\u001b[0m  \u001b[1;36m0.062500\u001b[0m   \n",
       "\u001b[1;36m2\u001b[0m       \u001b[1;36m0.0000\u001b[0m  \u001b[1;36m344.36600\u001b[0m  \u001b[1;36m2004\u001b[0m  \u001b[1;36m0.600000\u001b[0m  \u001b[1;36m0.050000\u001b[0m  \u001b[1;36m0.950000\u001b[0m  \u001b[1;36m0.000000\u001b[0m   \n",
       "\u001b[1;36m3\u001b[0m      \u001b[1;36m16.0333\u001b[0m  \u001b[1;36m369.38500\u001b[0m  \u001b[1;36m2004\u001b[0m  \u001b[1;36m0.500000\u001b[0m  \u001b[1;36m0.062500\u001b[0m  \u001b[1;36m0.937500\u001b[0m  \u001b[1;36m0.062500\u001b[0m   \n",
       "\u001b[1;36m4\u001b[0m      \u001b[1;36m18.7647\u001b[0m  \u001b[1;36m273.92400\u001b[0m  \u001b[1;36m2004\u001b[0m  \u001b[1;36m0.555556\u001b[0m  \u001b[1;36m0.000000\u001b[0m  \u001b[1;36m1.000000\u001b[0m  \u001b[1;36m0.111111\u001b[0m   \n",
       "\u001b[33m...\u001b[0m        \u001b[33m...\u001b[0m        \u001b[33m...\u001b[0m   \u001b[33m...\u001b[0m       \u001b[33m...\u001b[0m       \u001b[33m...\u001b[0m       \u001b[33m...\u001b[0m       \u001b[33m...\u001b[0m   \n",
       "\u001b[1;36m14333\u001b[0m   \u001b[1;36m0.0000\u001b[0m    \u001b[1;36m6.60494\u001b[0m  \u001b[1;36m2013\u001b[0m  \u001b[1;36m0.250000\u001b[0m  \u001b[1;36m0.250000\u001b[0m  \u001b[1;36m0.750000\u001b[0m  \u001b[1;36m0.000000\u001b[0m   \n",
       "\u001b[1;36m14334\u001b[0m  \u001b[1;36m16.6122\u001b[0m  \u001b[1;36m271.40400\u001b[0m  \u001b[1;36m2013\u001b[0m  \u001b[1;36m0.431373\u001b[0m  \u001b[1;36m0.176471\u001b[0m  \u001b[1;36m0.784314\u001b[0m  \u001b[1;36m0.969697\u001b[0m   \n",
       "\u001b[1;36m14335\u001b[0m  \u001b[1;36m15.6757\u001b[0m  \u001b[1;36m227.03800\u001b[0m  \u001b[1;36m2013\u001b[0m  \u001b[1;36m0.217391\u001b[0m  \u001b[1;36m0.000000\u001b[0m  \u001b[1;36m0.956522\u001b[0m  \u001b[1;36m0.000000\u001b[0m   \n",
       "\u001b[1;36m14336\u001b[0m  \u001b[1;36m21.0244\u001b[0m  \u001b[1;36m219.00000\u001b[0m  \u001b[1;36m2013\u001b[0m  \u001b[1;36m0.195122\u001b[0m  \u001b[1;36m0.073171\u001b[0m  \u001b[1;36m0.926829\u001b[0m  \u001b[1;36m0.379310\u001b[0m   \n",
       "\u001b[1;36m14337\u001b[0m  \u001b[1;36m32.9063\u001b[0m  \u001b[1;36m175.32100\u001b[0m  \u001b[1;36m2013\u001b[0m  \u001b[1;36m0.433333\u001b[0m  \u001b[1;36m0.066667\u001b[0m  \u001b[1;36m0.933333\u001b[0m  \u001b[1;36m0.000000\u001b[0m   \n",
       "\n",
       "       underweight_bmi  \n",
       "\u001b[1;36m0\u001b[0m             \u001b[1;36m0.272727\u001b[0m  \n",
       "\u001b[1;36m1\u001b[0m             \u001b[1;36m0.400000\u001b[0m  \n",
       "\u001b[1;36m2\u001b[0m             \u001b[1;36m0.354839\u001b[0m  \n",
       "\u001b[1;36m3\u001b[0m             \u001b[1;36m0.323529\u001b[0m  \n",
       "\u001b[1;36m4\u001b[0m             \u001b[1;36m0.277778\u001b[0m  \n",
       "\u001b[33m...\u001b[0m                \u001b[33m...\u001b[0m  \n",
       "\u001b[1;36m14333\u001b[0m         \u001b[1;36m0.212121\u001b[0m  \n",
       "\u001b[1;36m14334\u001b[0m         \u001b[1;36m0.347222\u001b[0m  \n",
       "\u001b[1;36m14335\u001b[0m         \u001b[1;36m0.097561\u001b[0m  \n",
       "\u001b[1;36m14336\u001b[0m         \u001b[1;36m0.026316\u001b[0m  \n",
       "\u001b[1;36m14337\u001b[0m         \u001b[1;36m0.048780\u001b[0m  \n",
       "\n",
       "\u001b[1m[\u001b[0m\u001b[1;36m14338\u001b[0m rows x \u001b[1;36m117\u001b[0m columns\u001b[1m]\u001b[0m"
      ]
     },
     "execution_count": 3,
     "metadata": {},
     "output_type": "execute_result"
    }
   ],
   "source": [
    "df"
   ]
  },
  {
   "cell_type": "markdown",
   "metadata": {
    "canvas": {
     "comments": [],
     "componentType": "CodeCell",
     "copiedOriginId": null,
     "diskcache": false,
     "headerColor": "transparent",
     "id": "0cf5258b-0892-4c8c-b0df-c7307a55a30e",
     "isComponent": false,
     "name": "",
     "parents": []
    }
   },
   "source": [
    "## Load parametrs"
   ]
  },
  {
   "cell_type": "code",
   "execution_count": 4,
   "metadata": {
    "canvas": {
     "comments": [],
     "componentType": "CodeCell",
     "copiedOriginId": null,
     "diskcache": false,
     "headerColor": "transparent",
     "id": "a4513f67-cb9a-47fd-90fb-616228d9dc51",
     "isComponent": false,
     "name": "",
     "parents": []
    }
   },
   "outputs": [
    {
     "data": {
      "text/html": [
       "<pre style=\"white-space:pre;overflow-x:auto;line-height:normal;font-family:Menlo,'DejaVu Sans Mono',consolas,'Courier New',monospace\"><span style=\"color: #7fbfbf; text-decoration-color: #7fbfbf\">[12/28/23 16:01:40] </span><span style=\"color: #000080; text-decoration-color: #000080\">INFO    </span> Loading data from <span style=\"color: #ff8700; text-decoration-color: #ff8700\">params:variables.features</span> <span style=\"font-weight: bold\">(</span>MemoryDataset<span style=\"font-weight: bold\">)</span><span style=\"color: #808000; text-decoration-color: #808000\">...</span>     <a href=\"file:///home/gitpod/miniconda3/envs/kedro-environment/lib/python3.10/site-packages/kedro/io/data_catalog.py\" target=\"_blank\"><span style=\"color: #7f7f7f; text-decoration-color: #7f7f7f\">data_catalog.py</span></a><span style=\"color: #7f7f7f; text-decoration-color: #7f7f7f\">:</span><a href=\"file:///home/gitpod/miniconda3/envs/kedro-environment/lib/python3.10/site-packages/kedro/io/data_catalog.py#482\" target=\"_blank\"><span style=\"color: #7f7f7f; text-decoration-color: #7f7f7f\">482</span></a>\n",
       "</pre>\n"
      ],
      "text/plain": [
       "\u001b[2;36m[12/28/23 16:01:40]\u001b[0m\u001b[2;36m \u001b[0m\u001b[34mINFO    \u001b[0m Loading data from \u001b[38;5;208mparams:variables.features\u001b[0m \u001b[1m(\u001b[0mMemoryDataset\u001b[1m)\u001b[0m\u001b[33m...\u001b[0m     \u001b]8;id=166378;file:///home/gitpod/miniconda3/envs/kedro-environment/lib/python3.10/site-packages/kedro/io/data_catalog.py\u001b\\\u001b[2mdata_catalog.py\u001b[0m\u001b]8;;\u001b\\\u001b[2m:\u001b[0m\u001b]8;id=680125;file:///home/gitpod/miniconda3/envs/kedro-environment/lib/python3.10/site-packages/kedro/io/data_catalog.py#482\u001b\\\u001b[2m482\u001b[0m\u001b]8;;\u001b\\\n"
      ]
     },
     "metadata": {},
     "output_type": "display_data"
    }
   ],
   "source": [
    "features = catalog.load(\"params:variables.features\")"
   ]
  },
  {
   "cell_type": "code",
   "execution_count": 5,
   "metadata": {
    "canvas": {
     "comments": [],
     "componentType": "CodeCell",
     "copiedOriginId": null,
     "diskcache": false,
     "headerColor": "transparent",
     "id": "4de99a2b-a84f-4283-a42d-01de9ab12f42",
     "isComponent": false,
     "name": "",
     "parents": []
    }
   },
   "outputs": [
    {
     "data": {
      "text/html": [
       "<pre style=\"white-space:pre;overflow-x:auto;line-height:normal;font-family:Menlo,'DejaVu Sans Mono',consolas,'Courier New',monospace\"></pre>\n"
      ],
      "text/plain": []
     },
     "metadata": {},
     "output_type": "display_data"
    },
    {
     "data": {
      "text/plain": [
       "\n",
       "\u001b[1m[\u001b[0m\n",
       "    \u001b[32m'year'\u001b[0m,\n",
       "    \u001b[32m'URBAN_RURA'\u001b[0m,\n",
       "    \u001b[32m'country'\u001b[0m,\n",
       "    \u001b[32m'alt'\u001b[0m,\n",
       "    \u001b[32m'chrps'\u001b[0m,\n",
       "    \u001b[32m'deathcount'\u001b[0m,\n",
       "    \u001b[32m'latnum'\u001b[0m,\n",
       "    \u001b[32m'longnum'\u001b[0m,\n",
       "    \u001b[32m'lst'\u001b[0m,\n",
       "    \u001b[32m'marketm0'\u001b[0m,\n",
       "    \u001b[32m'marketm1'\u001b[0m,\n",
       "    \u001b[32m'marketm2'\u001b[0m,\n",
       "    \u001b[32m'marketm3'\u001b[0m,\n",
       "    \u001b[32m'marketm4'\u001b[0m,\n",
       "    \u001b[32m'marketm5'\u001b[0m,\n",
       "    \u001b[32m'marketm6'\u001b[0m,\n",
       "    \u001b[32m'marketm7'\u001b[0m,\n",
       "    \u001b[32m'marketm8'\u001b[0m,\n",
       "    \u001b[32m'marketm9'\u001b[0m,\n",
       "    \u001b[32m'marketm10'\u001b[0m,\n",
       "    \u001b[32m'marketm11'\u001b[0m,\n",
       "    \u001b[32m'marketm12'\u001b[0m,\n",
       "    \u001b[32m'marketm13'\u001b[0m,\n",
       "    \u001b[32m'marketm14'\u001b[0m,\n",
       "    \u001b[32m'marketm15'\u001b[0m,\n",
       "    \u001b[32m'marketm16'\u001b[0m,\n",
       "    \u001b[32m'marketm17'\u001b[0m,\n",
       "    \u001b[32m'marketm18'\u001b[0m,\n",
       "    \u001b[32m'marketm19'\u001b[0m,\n",
       "    \u001b[32m'marketm20'\u001b[0m,\n",
       "    \u001b[32m'marketm21'\u001b[0m,\n",
       "    \u001b[32m'marketm22'\u001b[0m,\n",
       "    \u001b[32m'marketm23'\u001b[0m,\n",
       "    \u001b[32m'marketm24'\u001b[0m,\n",
       "    \u001b[32m'marketm25'\u001b[0m,\n",
       "    \u001b[32m'marketm26'\u001b[0m,\n",
       "    \u001b[32m'marketm27'\u001b[0m,\n",
       "    \u001b[32m'marketm28'\u001b[0m,\n",
       "    \u001b[32m'marketm29'\u001b[0m,\n",
       "    \u001b[32m'marketm30'\u001b[0m,\n",
       "    \u001b[32m'marketm31'\u001b[0m,\n",
       "    \u001b[32m'marketm32'\u001b[0m,\n",
       "    \u001b[32m'marketm33'\u001b[0m,\n",
       "    \u001b[32m'marketm34'\u001b[0m,\n",
       "    \u001b[32m'marketm35'\u001b[0m,\n",
       "    \u001b[32m'marketm36'\u001b[0m,\n",
       "    \u001b[32m'marketm37'\u001b[0m,\n",
       "    \u001b[32m'marketm38'\u001b[0m,\n",
       "    \u001b[32m'marketm39'\u001b[0m,\n",
       "    \u001b[32m'marketm40'\u001b[0m,\n",
       "    \u001b[32m'marketm41'\u001b[0m,\n",
       "    \u001b[32m'marketm42'\u001b[0m,\n",
       "    \u001b[32m'marketm43'\u001b[0m,\n",
       "    \u001b[32m'marketm44'\u001b[0m,\n",
       "    \u001b[32m'marketm45'\u001b[0m,\n",
       "    \u001b[32m'marketm46'\u001b[0m,\n",
       "    \u001b[32m'marketm47'\u001b[0m,\n",
       "    \u001b[32m'markets0'\u001b[0m,\n",
       "    \u001b[32m'markets1'\u001b[0m,\n",
       "    \u001b[32m'markets2'\u001b[0m,\n",
       "    \u001b[32m'markets3'\u001b[0m,\n",
       "    \u001b[32m'markets4'\u001b[0m,\n",
       "    \u001b[32m'markets5'\u001b[0m,\n",
       "    \u001b[32m'markets6'\u001b[0m,\n",
       "    \u001b[32m'markets7'\u001b[0m,\n",
       "    \u001b[32m'markets8'\u001b[0m,\n",
       "    \u001b[32m'markets9'\u001b[0m,\n",
       "    \u001b[32m'markets10'\u001b[0m,\n",
       "    \u001b[32m'markets11'\u001b[0m,\n",
       "    \u001b[32m'markets12'\u001b[0m,\n",
       "    \u001b[32m'markets13'\u001b[0m,\n",
       "    \u001b[32m'markets14'\u001b[0m,\n",
       "    \u001b[32m'markets15'\u001b[0m,\n",
       "    \u001b[32m'markets16'\u001b[0m,\n",
       "    \u001b[32m'markets17'\u001b[0m,\n",
       "    \u001b[32m'markets18'\u001b[0m,\n",
       "    \u001b[32m'markets19'\u001b[0m,\n",
       "    \u001b[32m'markets20'\u001b[0m,\n",
       "    \u001b[32m'markets21'\u001b[0m,\n",
       "    \u001b[32m'markets22'\u001b[0m,\n",
       "    \u001b[32m'markets23'\u001b[0m,\n",
       "    \u001b[32m'markets24'\u001b[0m,\n",
       "    \u001b[32m'markets25'\u001b[0m,\n",
       "    \u001b[32m'markets26'\u001b[0m,\n",
       "    \u001b[32m'markets27'\u001b[0m,\n",
       "    \u001b[32m'markets28'\u001b[0m,\n",
       "    \u001b[32m'markets29'\u001b[0m,\n",
       "    \u001b[32m'markets30'\u001b[0m,\n",
       "    \u001b[32m'markets31'\u001b[0m,\n",
       "    \u001b[32m'markets32'\u001b[0m,\n",
       "    \u001b[32m'markets33'\u001b[0m,\n",
       "    \u001b[32m'markets34'\u001b[0m,\n",
       "    \u001b[32m'markets35'\u001b[0m,\n",
       "    \u001b[32m'markets36'\u001b[0m,\n",
       "    \u001b[32m'markets37'\u001b[0m,\n",
       "    \u001b[32m'markets38'\u001b[0m,\n",
       "    \u001b[32m'markets39'\u001b[0m,\n",
       "    \u001b[32m'markets40'\u001b[0m,\n",
       "    \u001b[32m'markets41'\u001b[0m,\n",
       "    \u001b[32m'markets42'\u001b[0m,\n",
       "    \u001b[32m'markets43'\u001b[0m,\n",
       "    \u001b[32m'markets44'\u001b[0m,\n",
       "    \u001b[32m'markets45'\u001b[0m,\n",
       "    \u001b[32m'markets46'\u001b[0m,\n",
       "    \u001b[32m'markets47'\u001b[0m,\n",
       "    \u001b[32m'numevents'\u001b[0m,\n",
       "    \u001b[32m'pasture'\u001b[0m,\n",
       "    \u001b[32m'sif'\u001b[0m,\n",
       "    \u001b[32m'slope'\u001b[0m,\n",
       "    \u001b[32m'tree'\u001b[0m,\n",
       "    \u001b[32m'tt00_500k'\u001b[0m\n",
       "\u001b[1m]\u001b[0m"
      ]
     },
     "execution_count": 5,
     "metadata": {},
     "output_type": "execute_result"
    }
   ],
   "source": [
    "features"
   ]
  },
  {
   "cell_type": "code",
   "execution_count": 6,
   "metadata": {
    "tags": []
   },
   "outputs": [
    {
     "data": {
      "text/html": [
       "<pre style=\"white-space:pre;overflow-x:auto;line-height:normal;font-family:Menlo,'DejaVu Sans Mono',consolas,'Courier New',monospace\"><span style=\"color: #7fbfbf; text-decoration-color: #7fbfbf\">[12/28/23 16:03:05] </span><span style=\"color: #000080; text-decoration-color: #000080\">INFO    </span> Loading data from <span style=\"color: #ff8700; text-decoration-color: #ff8700\">params:variables.targets</span> <span style=\"font-weight: bold\">(</span>MemoryDataset<span style=\"font-weight: bold\">)</span><span style=\"color: #808000; text-decoration-color: #808000\">...</span>      <a href=\"file:///home/gitpod/miniconda3/envs/kedro-environment/lib/python3.10/site-packages/kedro/io/data_catalog.py\" target=\"_blank\"><span style=\"color: #7f7f7f; text-decoration-color: #7f7f7f\">data_catalog.py</span></a><span style=\"color: #7f7f7f; text-decoration-color: #7f7f7f\">:</span><a href=\"file:///home/gitpod/miniconda3/envs/kedro-environment/lib/python3.10/site-packages/kedro/io/data_catalog.py#482\" target=\"_blank\"><span style=\"color: #7f7f7f; text-decoration-color: #7f7f7f\">482</span></a>\n",
       "</pre>\n"
      ],
      "text/plain": [
       "\u001b[2;36m[12/28/23 16:03:05]\u001b[0m\u001b[2;36m \u001b[0m\u001b[34mINFO    \u001b[0m Loading data from \u001b[38;5;208mparams:variables.targets\u001b[0m \u001b[1m(\u001b[0mMemoryDataset\u001b[1m)\u001b[0m\u001b[33m...\u001b[0m      \u001b]8;id=386405;file:///home/gitpod/miniconda3/envs/kedro-environment/lib/python3.10/site-packages/kedro/io/data_catalog.py\u001b\\\u001b[2mdata_catalog.py\u001b[0m\u001b]8;;\u001b\\\u001b[2m:\u001b[0m\u001b]8;id=760117;file:///home/gitpod/miniconda3/envs/kedro-environment/lib/python3.10/site-packages/kedro/io/data_catalog.py#482\u001b\\\u001b[2m482\u001b[0m\u001b]8;;\u001b\\\n"
      ]
     },
     "metadata": {},
     "output_type": "display_data"
    }
   ],
   "source": [
    "# we load targets because we will predict five diffrent target variables\n",
    "targets = catalog.load(\"params:variables.targets\")"
   ]
  },
  {
   "cell_type": "code",
   "execution_count": 7,
   "metadata": {
    "tags": []
   },
   "outputs": [
    {
     "data": {
      "text/html": [
       "<pre style=\"white-space:pre;overflow-x:auto;line-height:normal;font-family:Menlo,'DejaVu Sans Mono',consolas,'Courier New',monospace\"></pre>\n"
      ],
      "text/plain": []
     },
     "metadata": {},
     "output_type": "display_data"
    },
    {
     "data": {
      "text/plain": [
       "\u001b[1m[\u001b[0m\u001b[32m'stunted'\u001b[0m, \u001b[32m'wasted'\u001b[0m, \u001b[32m'healthy'\u001b[0m, \u001b[32m'poorest'\u001b[0m, \u001b[32m'underweight_bmi'\u001b[0m\u001b[1m]\u001b[0m"
      ]
     },
     "execution_count": 7,
     "metadata": {},
     "output_type": "execute_result"
    }
   ],
   "source": [
    "targets"
   ]
  },
  {
   "cell_type": "code",
   "execution_count": 8,
   "metadata": {
    "tags": []
   },
   "outputs": [
    {
     "data": {
      "text/html": [
       "<pre style=\"white-space:pre;overflow-x:auto;line-height:normal;font-family:Menlo,'DejaVu Sans Mono',consolas,'Courier New',monospace\"></pre>\n"
      ],
      "text/plain": []
     },
     "metadata": {},
     "output_type": "display_data"
    },
    {
     "data": {
      "text/plain": [
       "\u001b[32m'wasted'\u001b[0m"
      ]
     },
     "execution_count": 8,
     "metadata": {},
     "output_type": "execute_result"
    }
   ],
   "source": [
    "targets[1]"
   ]
  },
  {
   "cell_type": "code",
   "execution_count": 23,
   "metadata": {
    "tags": []
   },
   "outputs": [],
   "source": [
    "# Correctly assign each element of the list to a target variable\n",
    "target_stunted = [targets[0]]\n",
    "target_wasted = [targets[1]]\n",
    "target_healthy = [targets[2]]\n",
    "target_poorest = [targets[3]]\n",
    "target_underweight_bmi = [targets[4]]"
   ]
  },
  {
   "cell_type": "code",
   "execution_count": 24,
   "metadata": {
    "tags": []
   },
   "outputs": [
    {
     "data": {
      "text/html": [
       "<pre style=\"white-space:pre;overflow-x:auto;line-height:normal;font-family:Menlo,'DejaVu Sans Mono',consolas,'Courier New',monospace\"></pre>\n"
      ],
      "text/plain": []
     },
     "metadata": {},
     "output_type": "display_data"
    },
    {
     "data": {
      "text/plain": [
       "\u001b[1m(\u001b[0m\u001b[1m[\u001b[0m\u001b[32m'stunted'\u001b[0m\u001b[1m]\u001b[0m, \u001b[1m[\u001b[0m\u001b[32m'wasted'\u001b[0m\u001b[1m]\u001b[0m, \u001b[1m[\u001b[0m\u001b[32m'healthy'\u001b[0m\u001b[1m]\u001b[0m, \u001b[1m[\u001b[0m\u001b[32m'poorest'\u001b[0m\u001b[1m]\u001b[0m, \u001b[1m[\u001b[0m\u001b[32m'underweight_bmi'\u001b[0m\u001b[1m]\u001b[0m\u001b[1m)\u001b[0m"
      ]
     },
     "execution_count": 24,
     "metadata": {},
     "output_type": "execute_result"
    }
   ],
   "source": [
    "target_stunted, target_wasted, target_healthy, target_poorest, target_underweight_bmi"
   ]
  },
  {
   "cell_type": "code",
   "execution_count": 25,
   "metadata": {
    "tags": []
   },
   "outputs": [],
   "source": [
    "variables_for_stunted = features + target_stunted\n",
    "variables_for_wasted = features + target_wasted\n",
    "variables_for_healthy = features + target_healthy\n",
    "variables_for_poorest = features + target_poorest\n",
    "variables_for_underweight_bmi = features + target_underweight_bmi"
   ]
  },
  {
   "cell_type": "markdown",
   "metadata": {},
   "source": [
    "# Prediction of poorest target variable \n",
    "\n",
    "### \"Asset poverty: households in the poorest quintile of the asset-based comparative 132 wealth index, defined as an asset index score ≤ -0.9080 (FTF 2018);\""
   ]
  },
  {
   "cell_type": "code",
   "execution_count": 26,
   "metadata": {
    "canvas": {
     "comments": [],
     "componentType": "CodeCell",
     "copiedOriginId": null,
     "diskcache": false,
     "headerColor": "transparent",
     "id": "1131bbcd-1726-4623-aa50-7865b0e301b0",
     "isComponent": false,
     "name": "",
     "parents": []
    }
   },
   "outputs": [],
   "source": [
    "# Prediction of poorest target variable \n",
    "df = df[variables_for_poorest]"
   ]
  },
  {
   "cell_type": "code",
   "execution_count": 27,
   "metadata": {
    "tags": []
   },
   "outputs": [
    {
     "data": {
      "text/html": [
       "<pre style=\"white-space:pre;overflow-x:auto;line-height:normal;font-family:Menlo,'DejaVu Sans Mono',consolas,'Courier New',monospace\"></pre>\n"
      ],
      "text/plain": []
     },
     "metadata": {},
     "output_type": "display_data"
    },
    {
     "data": {
      "text/html": [
       "<div>\n",
       "<style scoped>\n",
       "    .dataframe tbody tr th:only-of-type {\n",
       "        vertical-align: middle;\n",
       "    }\n",
       "\n",
       "    .dataframe tbody tr th {\n",
       "        vertical-align: top;\n",
       "    }\n",
       "\n",
       "    .dataframe thead th {\n",
       "        text-align: right;\n",
       "    }\n",
       "</style>\n",
       "<table border=\"1\" class=\"dataframe\">\n",
       "  <thead>\n",
       "    <tr style=\"text-align: right;\">\n",
       "      <th></th>\n",
       "      <th>year</th>\n",
       "      <th>URBAN_RURA</th>\n",
       "      <th>country</th>\n",
       "      <th>alt</th>\n",
       "      <th>chrps</th>\n",
       "      <th>deathcount</th>\n",
       "      <th>latnum</th>\n",
       "      <th>longnum</th>\n",
       "      <th>lst</th>\n",
       "      <th>marketm0</th>\n",
       "      <th>...</th>\n",
       "      <th>markets45</th>\n",
       "      <th>markets46</th>\n",
       "      <th>markets47</th>\n",
       "      <th>numevents</th>\n",
       "      <th>pasture</th>\n",
       "      <th>sif</th>\n",
       "      <th>slope</th>\n",
       "      <th>tree</th>\n",
       "      <th>tt00_500k</th>\n",
       "      <th>poorest</th>\n",
       "    </tr>\n",
       "  </thead>\n",
       "  <tbody>\n",
       "    <tr>\n",
       "      <th>0</th>\n",
       "      <td>2004</td>\n",
       "      <td>1</td>\n",
       "      <td>Bangladesh</td>\n",
       "      <td>5.60252</td>\n",
       "      <td>0.437479</td>\n",
       "      <td>0</td>\n",
       "      <td>22.981516</td>\n",
       "      <td>90.155785</td>\n",
       "      <td>-1.065822</td>\n",
       "      <td>NaN</td>\n",
       "      <td>...</td>\n",
       "      <td>NaN</td>\n",
       "      <td>NaN</td>\n",
       "      <td>NaN</td>\n",
       "      <td>14</td>\n",
       "      <td>0.048795</td>\n",
       "      <td>-0.745444</td>\n",
       "      <td>0.021781</td>\n",
       "      <td>16.3438</td>\n",
       "      <td>365.67800</td>\n",
       "      <td>0.071429</td>\n",
       "    </tr>\n",
       "    <tr>\n",
       "      <th>1</th>\n",
       "      <td>2004</td>\n",
       "      <td>1</td>\n",
       "      <td>Bangladesh</td>\n",
       "      <td>4.67774</td>\n",
       "      <td>0.447809</td>\n",
       "      <td>0</td>\n",
       "      <td>22.444431</td>\n",
       "      <td>90.329185</td>\n",
       "      <td>-0.963057</td>\n",
       "      <td>NaN</td>\n",
       "      <td>...</td>\n",
       "      <td>NaN</td>\n",
       "      <td>NaN</td>\n",
       "      <td>NaN</td>\n",
       "      <td>14</td>\n",
       "      <td>0.042821</td>\n",
       "      <td>-0.840625</td>\n",
       "      <td>0.007349</td>\n",
       "      <td>0.0000</td>\n",
       "      <td>397.88600</td>\n",
       "      <td>0.062500</td>\n",
       "    </tr>\n",
       "    <tr>\n",
       "      <th>2</th>\n",
       "      <td>2004</td>\n",
       "      <td>1</td>\n",
       "      <td>Bangladesh</td>\n",
       "      <td>5.14527</td>\n",
       "      <td>0.453208</td>\n",
       "      <td>0</td>\n",
       "      <td>22.487263</td>\n",
       "      <td>90.206123</td>\n",
       "      <td>-0.963257</td>\n",
       "      <td>NaN</td>\n",
       "      <td>...</td>\n",
       "      <td>NaN</td>\n",
       "      <td>NaN</td>\n",
       "      <td>NaN</td>\n",
       "      <td>14</td>\n",
       "      <td>0.030075</td>\n",
       "      <td>-0.841667</td>\n",
       "      <td>0.005347</td>\n",
       "      <td>0.0000</td>\n",
       "      <td>344.36600</td>\n",
       "      <td>0.000000</td>\n",
       "    </tr>\n",
       "    <tr>\n",
       "      <th>3</th>\n",
       "      <td>2004</td>\n",
       "      <td>1</td>\n",
       "      <td>Bangladesh</td>\n",
       "      <td>6.17460</td>\n",
       "      <td>0.433324</td>\n",
       "      <td>0</td>\n",
       "      <td>23.016359</td>\n",
       "      <td>90.192879</td>\n",
       "      <td>-1.074995</td>\n",
       "      <td>NaN</td>\n",
       "      <td>...</td>\n",
       "      <td>NaN</td>\n",
       "      <td>NaN</td>\n",
       "      <td>NaN</td>\n",
       "      <td>14</td>\n",
       "      <td>0.052236</td>\n",
       "      <td>-0.744531</td>\n",
       "      <td>0.027679</td>\n",
       "      <td>16.0333</td>\n",
       "      <td>369.38500</td>\n",
       "      <td>0.062500</td>\n",
       "    </tr>\n",
       "    <tr>\n",
       "      <th>4</th>\n",
       "      <td>2004</td>\n",
       "      <td>1</td>\n",
       "      <td>Bangladesh</td>\n",
       "      <td>5.39076</td>\n",
       "      <td>0.406196</td>\n",
       "      <td>0</td>\n",
       "      <td>22.952404</td>\n",
       "      <td>90.454414</td>\n",
       "      <td>-1.065344</td>\n",
       "      <td>NaN</td>\n",
       "      <td>...</td>\n",
       "      <td>NaN</td>\n",
       "      <td>NaN</td>\n",
       "      <td>NaN</td>\n",
       "      <td>14</td>\n",
       "      <td>0.041699</td>\n",
       "      <td>-0.748497</td>\n",
       "      <td>0.025029</td>\n",
       "      <td>18.7647</td>\n",
       "      <td>273.92400</td>\n",
       "      <td>0.111111</td>\n",
       "    </tr>\n",
       "    <tr>\n",
       "      <th>...</th>\n",
       "      <td>...</td>\n",
       "      <td>...</td>\n",
       "      <td>...</td>\n",
       "      <td>...</td>\n",
       "      <td>...</td>\n",
       "      <td>...</td>\n",
       "      <td>...</td>\n",
       "      <td>...</td>\n",
       "      <td>...</td>\n",
       "      <td>...</td>\n",
       "      <td>...</td>\n",
       "      <td>...</td>\n",
       "      <td>...</td>\n",
       "      <td>...</td>\n",
       "      <td>...</td>\n",
       "      <td>...</td>\n",
       "      <td>...</td>\n",
       "      <td>...</td>\n",
       "      <td>...</td>\n",
       "      <td>...</td>\n",
       "      <td>...</td>\n",
       "    </tr>\n",
       "    <tr>\n",
       "      <th>14333</th>\n",
       "      <td>2013</td>\n",
       "      <td>0</td>\n",
       "      <td>Nigeria</td>\n",
       "      <td>212.91400</td>\n",
       "      <td>0.622106</td>\n",
       "      <td>382</td>\n",
       "      <td>7.368560</td>\n",
       "      <td>3.937503</td>\n",
       "      <td>-0.786959</td>\n",
       "      <td>NaN</td>\n",
       "      <td>...</td>\n",
       "      <td>NaN</td>\n",
       "      <td>NaN</td>\n",
       "      <td>NaN</td>\n",
       "      <td>345</td>\n",
       "      <td>0.004750</td>\n",
       "      <td>-0.413014</td>\n",
       "      <td>0.508662</td>\n",
       "      <td>0.0000</td>\n",
       "      <td>6.60494</td>\n",
       "      <td>0.000000</td>\n",
       "    </tr>\n",
       "    <tr>\n",
       "      <th>14334</th>\n",
       "      <td>2013</td>\n",
       "      <td>1</td>\n",
       "      <td>Nigeria</td>\n",
       "      <td>392.34100</td>\n",
       "      <td>1.081900</td>\n",
       "      <td>311</td>\n",
       "      <td>8.570109</td>\n",
       "      <td>3.547449</td>\n",
       "      <td>-0.804163</td>\n",
       "      <td>NaN</td>\n",
       "      <td>...</td>\n",
       "      <td>NaN</td>\n",
       "      <td>NaN</td>\n",
       "      <td>NaN</td>\n",
       "      <td>296</td>\n",
       "      <td>0.001639</td>\n",
       "      <td>-0.269682</td>\n",
       "      <td>0.396409</td>\n",
       "      <td>16.6122</td>\n",
       "      <td>271.40400</td>\n",
       "      <td>0.969697</td>\n",
       "    </tr>\n",
       "    <tr>\n",
       "      <th>14335</th>\n",
       "      <td>2013</td>\n",
       "      <td>1</td>\n",
       "      <td>Nigeria</td>\n",
       "      <td>394.41600</td>\n",
       "      <td>1.080867</td>\n",
       "      <td>311</td>\n",
       "      <td>8.765458</td>\n",
       "      <td>3.603125</td>\n",
       "      <td>-0.780643</td>\n",
       "      <td>NaN</td>\n",
       "      <td>...</td>\n",
       "      <td>NaN</td>\n",
       "      <td>NaN</td>\n",
       "      <td>NaN</td>\n",
       "      <td>296</td>\n",
       "      <td>0.059900</td>\n",
       "      <td>-0.248022</td>\n",
       "      <td>0.527184</td>\n",
       "      <td>15.6757</td>\n",
       "      <td>227.03800</td>\n",
       "      <td>0.000000</td>\n",
       "    </tr>\n",
       "    <tr>\n",
       "      <th>14336</th>\n",
       "      <td>2013</td>\n",
       "      <td>1</td>\n",
       "      <td>Nigeria</td>\n",
       "      <td>389.46400</td>\n",
       "      <td>1.084190</td>\n",
       "      <td>311</td>\n",
       "      <td>8.660406</td>\n",
       "      <td>3.522780</td>\n",
       "      <td>-0.781408</td>\n",
       "      <td>NaN</td>\n",
       "      <td>...</td>\n",
       "      <td>NaN</td>\n",
       "      <td>NaN</td>\n",
       "      <td>NaN</td>\n",
       "      <td>296</td>\n",
       "      <td>0.004605</td>\n",
       "      <td>-0.257015</td>\n",
       "      <td>0.390382</td>\n",
       "      <td>21.0244</td>\n",
       "      <td>219.00000</td>\n",
       "      <td>0.379310</td>\n",
       "    </tr>\n",
       "    <tr>\n",
       "      <th>14337</th>\n",
       "      <td>2013</td>\n",
       "      <td>0</td>\n",
       "      <td>Nigeria</td>\n",
       "      <td>435.48100</td>\n",
       "      <td>1.094852</td>\n",
       "      <td>311</td>\n",
       "      <td>8.687992</td>\n",
       "      <td>3.412814</td>\n",
       "      <td>-0.899868</td>\n",
       "      <td>NaN</td>\n",
       "      <td>...</td>\n",
       "      <td>NaN</td>\n",
       "      <td>NaN</td>\n",
       "      <td>NaN</td>\n",
       "      <td>296</td>\n",
       "      <td>0.114607</td>\n",
       "      <td>-0.223676</td>\n",
       "      <td>0.185043</td>\n",
       "      <td>32.9063</td>\n",
       "      <td>175.32100</td>\n",
       "      <td>0.000000</td>\n",
       "    </tr>\n",
       "  </tbody>\n",
       "</table>\n",
       "<p>14338 rows × 112 columns</p>\n",
       "</div>"
      ],
      "text/plain": [
       "\n",
       "       year  URBAN_RURA     country        alt     chrps  deathcount  \\\n",
       "\u001b[1;36m0\u001b[0m      \u001b[1;36m2004\u001b[0m           \u001b[1;36m1\u001b[0m  Bangladesh    \u001b[1;36m5.60252\u001b[0m  \u001b[1;36m0.437479\u001b[0m           \u001b[1;36m0\u001b[0m   \n",
       "\u001b[1;36m1\u001b[0m      \u001b[1;36m2004\u001b[0m           \u001b[1;36m1\u001b[0m  Bangladesh    \u001b[1;36m4.67774\u001b[0m  \u001b[1;36m0.447809\u001b[0m           \u001b[1;36m0\u001b[0m   \n",
       "\u001b[1;36m2\u001b[0m      \u001b[1;36m2004\u001b[0m           \u001b[1;36m1\u001b[0m  Bangladesh    \u001b[1;36m5.14527\u001b[0m  \u001b[1;36m0.453208\u001b[0m           \u001b[1;36m0\u001b[0m   \n",
       "\u001b[1;36m3\u001b[0m      \u001b[1;36m2004\u001b[0m           \u001b[1;36m1\u001b[0m  Bangladesh    \u001b[1;36m6.17460\u001b[0m  \u001b[1;36m0.433324\u001b[0m           \u001b[1;36m0\u001b[0m   \n",
       "\u001b[1;36m4\u001b[0m      \u001b[1;36m2004\u001b[0m           \u001b[1;36m1\u001b[0m  Bangladesh    \u001b[1;36m5.39076\u001b[0m  \u001b[1;36m0.406196\u001b[0m           \u001b[1;36m0\u001b[0m   \n",
       "\u001b[33m...\u001b[0m     \u001b[33m...\u001b[0m         \u001b[33m...\u001b[0m         \u001b[33m...\u001b[0m        \u001b[33m...\u001b[0m       \u001b[33m...\u001b[0m         \u001b[33m...\u001b[0m   \n",
       "\u001b[1;36m14333\u001b[0m  \u001b[1;36m2013\u001b[0m           \u001b[1;36m0\u001b[0m     Nigeria  \u001b[1;36m212.91400\u001b[0m  \u001b[1;36m0.622106\u001b[0m         \u001b[1;36m382\u001b[0m   \n",
       "\u001b[1;36m14334\u001b[0m  \u001b[1;36m2013\u001b[0m           \u001b[1;36m1\u001b[0m     Nigeria  \u001b[1;36m392.34100\u001b[0m  \u001b[1;36m1.081900\u001b[0m         \u001b[1;36m311\u001b[0m   \n",
       "\u001b[1;36m14335\u001b[0m  \u001b[1;36m2013\u001b[0m           \u001b[1;36m1\u001b[0m     Nigeria  \u001b[1;36m394.41600\u001b[0m  \u001b[1;36m1.080867\u001b[0m         \u001b[1;36m311\u001b[0m   \n",
       "\u001b[1;36m14336\u001b[0m  \u001b[1;36m2013\u001b[0m           \u001b[1;36m1\u001b[0m     Nigeria  \u001b[1;36m389.46400\u001b[0m  \u001b[1;36m1.084190\u001b[0m         \u001b[1;36m311\u001b[0m   \n",
       "\u001b[1;36m14337\u001b[0m  \u001b[1;36m2013\u001b[0m           \u001b[1;36m0\u001b[0m     Nigeria  \u001b[1;36m435.48100\u001b[0m  \u001b[1;36m1.094852\u001b[0m         \u001b[1;36m311\u001b[0m   \n",
       "\n",
       "          latnum    longnum       lst  marketm0  \u001b[33m...\u001b[0m  markets45  markets46  \\\n",
       "\u001b[1;36m0\u001b[0m      \u001b[1;36m22.981516\u001b[0m  \u001b[1;36m90.155785\u001b[0m \u001b[1;36m-1.065822\u001b[0m       NaN  \u001b[33m...\u001b[0m        NaN        NaN   \n",
       "\u001b[1;36m1\u001b[0m      \u001b[1;36m22.444431\u001b[0m  \u001b[1;36m90.329185\u001b[0m \u001b[1;36m-0.963057\u001b[0m       NaN  \u001b[33m...\u001b[0m        NaN        NaN   \n",
       "\u001b[1;36m2\u001b[0m      \u001b[1;36m22.487263\u001b[0m  \u001b[1;36m90.206123\u001b[0m \u001b[1;36m-0.963257\u001b[0m       NaN  \u001b[33m...\u001b[0m        NaN        NaN   \n",
       "\u001b[1;36m3\u001b[0m      \u001b[1;36m23.016359\u001b[0m  \u001b[1;36m90.192879\u001b[0m \u001b[1;36m-1.074995\u001b[0m       NaN  \u001b[33m...\u001b[0m        NaN        NaN   \n",
       "\u001b[1;36m4\u001b[0m      \u001b[1;36m22.952404\u001b[0m  \u001b[1;36m90.454414\u001b[0m \u001b[1;36m-1.065344\u001b[0m       NaN  \u001b[33m...\u001b[0m        NaN        NaN   \n",
       "\u001b[33m...\u001b[0m          \u001b[33m...\u001b[0m        \u001b[33m...\u001b[0m       \u001b[33m...\u001b[0m       \u001b[33m...\u001b[0m  \u001b[33m...\u001b[0m        \u001b[33m...\u001b[0m        \u001b[33m...\u001b[0m   \n",
       "\u001b[1;36m14333\u001b[0m   \u001b[1;36m7.368560\u001b[0m   \u001b[1;36m3.937503\u001b[0m \u001b[1;36m-0.786959\u001b[0m       NaN  \u001b[33m...\u001b[0m        NaN        NaN   \n",
       "\u001b[1;36m14334\u001b[0m   \u001b[1;36m8.570109\u001b[0m   \u001b[1;36m3.547449\u001b[0m \u001b[1;36m-0.804163\u001b[0m       NaN  \u001b[33m...\u001b[0m        NaN        NaN   \n",
       "\u001b[1;36m14335\u001b[0m   \u001b[1;36m8.765458\u001b[0m   \u001b[1;36m3.603125\u001b[0m \u001b[1;36m-0.780643\u001b[0m       NaN  \u001b[33m...\u001b[0m        NaN        NaN   \n",
       "\u001b[1;36m14336\u001b[0m   \u001b[1;36m8.660406\u001b[0m   \u001b[1;36m3.522780\u001b[0m \u001b[1;36m-0.781408\u001b[0m       NaN  \u001b[33m...\u001b[0m        NaN        NaN   \n",
       "\u001b[1;36m14337\u001b[0m   \u001b[1;36m8.687992\u001b[0m   \u001b[1;36m3.412814\u001b[0m \u001b[1;36m-0.899868\u001b[0m       NaN  \u001b[33m...\u001b[0m        NaN        NaN   \n",
       "\n",
       "       markets47  numevents   pasture       sif     slope     tree  tt00_500k  \\\n",
       "\u001b[1;36m0\u001b[0m            NaN         \u001b[1;36m14\u001b[0m  \u001b[1;36m0.048795\u001b[0m \u001b[1;36m-0.745444\u001b[0m  \u001b[1;36m0.021781\u001b[0m  \u001b[1;36m16.3438\u001b[0m  \u001b[1;36m365.67800\u001b[0m   \n",
       "\u001b[1;36m1\u001b[0m            NaN         \u001b[1;36m14\u001b[0m  \u001b[1;36m0.042821\u001b[0m \u001b[1;36m-0.840625\u001b[0m  \u001b[1;36m0.007349\u001b[0m   \u001b[1;36m0.0000\u001b[0m  \u001b[1;36m397.88600\u001b[0m   \n",
       "\u001b[1;36m2\u001b[0m            NaN         \u001b[1;36m14\u001b[0m  \u001b[1;36m0.030075\u001b[0m \u001b[1;36m-0.841667\u001b[0m  \u001b[1;36m0.005347\u001b[0m   \u001b[1;36m0.0000\u001b[0m  \u001b[1;36m344.36600\u001b[0m   \n",
       "\u001b[1;36m3\u001b[0m            NaN         \u001b[1;36m14\u001b[0m  \u001b[1;36m0.052236\u001b[0m \u001b[1;36m-0.744531\u001b[0m  \u001b[1;36m0.027679\u001b[0m  \u001b[1;36m16.0333\u001b[0m  \u001b[1;36m369.38500\u001b[0m   \n",
       "\u001b[1;36m4\u001b[0m            NaN         \u001b[1;36m14\u001b[0m  \u001b[1;36m0.041699\u001b[0m \u001b[1;36m-0.748497\u001b[0m  \u001b[1;36m0.025029\u001b[0m  \u001b[1;36m18.7647\u001b[0m  \u001b[1;36m273.92400\u001b[0m   \n",
       "\u001b[33m...\u001b[0m          \u001b[33m...\u001b[0m        \u001b[33m...\u001b[0m       \u001b[33m...\u001b[0m       \u001b[33m...\u001b[0m       \u001b[33m...\u001b[0m      \u001b[33m...\u001b[0m        \u001b[33m...\u001b[0m   \n",
       "\u001b[1;36m14333\u001b[0m        NaN        \u001b[1;36m345\u001b[0m  \u001b[1;36m0.004750\u001b[0m \u001b[1;36m-0.413014\u001b[0m  \u001b[1;36m0.508662\u001b[0m   \u001b[1;36m0.0000\u001b[0m    \u001b[1;36m6.60494\u001b[0m   \n",
       "\u001b[1;36m14334\u001b[0m        NaN        \u001b[1;36m296\u001b[0m  \u001b[1;36m0.001639\u001b[0m \u001b[1;36m-0.269682\u001b[0m  \u001b[1;36m0.396409\u001b[0m  \u001b[1;36m16.6122\u001b[0m  \u001b[1;36m271.40400\u001b[0m   \n",
       "\u001b[1;36m14335\u001b[0m        NaN        \u001b[1;36m296\u001b[0m  \u001b[1;36m0.059900\u001b[0m \u001b[1;36m-0.248022\u001b[0m  \u001b[1;36m0.527184\u001b[0m  \u001b[1;36m15.6757\u001b[0m  \u001b[1;36m227.03800\u001b[0m   \n",
       "\u001b[1;36m14336\u001b[0m        NaN        \u001b[1;36m296\u001b[0m  \u001b[1;36m0.004605\u001b[0m \u001b[1;36m-0.257015\u001b[0m  \u001b[1;36m0.390382\u001b[0m  \u001b[1;36m21.0244\u001b[0m  \u001b[1;36m219.00000\u001b[0m   \n",
       "\u001b[1;36m14337\u001b[0m        NaN        \u001b[1;36m296\u001b[0m  \u001b[1;36m0.114607\u001b[0m \u001b[1;36m-0.223676\u001b[0m  \u001b[1;36m0.185043\u001b[0m  \u001b[1;36m32.9063\u001b[0m  \u001b[1;36m175.32100\u001b[0m   \n",
       "\n",
       "        poorest  \n",
       "\u001b[1;36m0\u001b[0m      \u001b[1;36m0.071429\u001b[0m  \n",
       "\u001b[1;36m1\u001b[0m      \u001b[1;36m0.062500\u001b[0m  \n",
       "\u001b[1;36m2\u001b[0m      \u001b[1;36m0.000000\u001b[0m  \n",
       "\u001b[1;36m3\u001b[0m      \u001b[1;36m0.062500\u001b[0m  \n",
       "\u001b[1;36m4\u001b[0m      \u001b[1;36m0.111111\u001b[0m  \n",
       "\u001b[33m...\u001b[0m         \u001b[33m...\u001b[0m  \n",
       "\u001b[1;36m14333\u001b[0m  \u001b[1;36m0.000000\u001b[0m  \n",
       "\u001b[1;36m14334\u001b[0m  \u001b[1;36m0.969697\u001b[0m  \n",
       "\u001b[1;36m14335\u001b[0m  \u001b[1;36m0.000000\u001b[0m  \n",
       "\u001b[1;36m14336\u001b[0m  \u001b[1;36m0.379310\u001b[0m  \n",
       "\u001b[1;36m14337\u001b[0m  \u001b[1;36m0.000000\u001b[0m  \n",
       "\n",
       "\u001b[1m[\u001b[0m\u001b[1;36m14338\u001b[0m rows x \u001b[1;36m112\u001b[0m columns\u001b[1m]\u001b[0m"
      ]
     },
     "execution_count": 27,
     "metadata": {},
     "output_type": "execute_result"
    }
   ],
   "source": [
    "df"
   ]
  },
  {
   "cell_type": "markdown",
   "metadata": {
    "canvas": {
     "comments": [],
     "componentType": "CodeCell",
     "copiedOriginId": null,
     "diskcache": false,
     "headerColor": "transparent",
     "id": "e6fce200-b285-47bc-b192-e80004847b2d",
     "isComponent": false,
     "name": "",
     "parents": []
    }
   },
   "source": [
    "# Preprocessing"
   ]
  },
  {
   "cell_type": "markdown",
   "metadata": {
    "canvas": {
     "comments": [],
     "componentType": "CodeCell",
     "copiedOriginId": null,
     "diskcache": false,
     "headerColor": "transparent",
     "id": "884150a9-6a38-489e-bda2-b6639806f494",
     "isComponent": false,
     "name": "",
     "parents": []
    }
   },
   "source": [
    "## Remove rows with missing values"
   ]
  },
  {
   "cell_type": "code",
   "execution_count": 28,
   "metadata": {
    "canvas": {
     "comments": [],
     "componentType": "CodeCell",
     "copiedOriginId": null,
     "diskcache": false,
     "headerColor": "transparent",
     "id": "ee3a895a-c60d-4614-93cf-e8850f00f06c",
     "isComponent": false,
     "name": "",
     "parents": []
    }
   },
   "outputs": [
    {
     "name": "stdout",
     "output_type": "stream",
     "text": [
      "Missing values per column:\n",
      "year            0\n",
      "URBAN_RURA      0\n",
      "country         0\n",
      "alt             0\n",
      "chrps         209\n",
      "             ... \n",
      "sif           229\n",
      "slope           0\n",
      "tree            0\n",
      "tt00_500k       0\n",
      "poorest         0\n",
      "Length: 112, dtype: int64\n",
      "Total missing values: 1067999\n"
     ]
    }
   ],
   "source": [
    "# Count missing values in each column\n",
    "missing_values_per_column = df.isna().sum()\n",
    "print(\"Missing values per column:\")\n",
    "print(missing_values_per_column)\n",
    "\n",
    "# Count total missing values in the DataFrame\n",
    "total_missing_values = df.isna().sum().sum()\n",
    "print(f\"Total missing values: {total_missing_values}\")"
   ]
  },
  {
   "cell_type": "code",
   "execution_count": 31,
   "metadata": {
    "canvas": {
     "comments": [],
     "componentType": "CodeCell",
     "copiedOriginId": null,
     "diskcache": false,
     "headerColor": "transparent",
     "id": "4ec8ade0-8532-4e5c-842c-16d59305aeb5",
     "isComponent": false,
     "name": "",
     "parents": []
    }
   },
   "outputs": [],
   "source": [
    "from typing import List, Union\n",
    "\n",
    "def _remove_rows_with_missing_values(df: pd.DataFrame, columns: Union[str, List[str]] = None) -> pd.DataFrame:\n",
    "    \"\"\"\n",
    "    Remove all rows containing missing values either from the whole DataFrame or from specific columns.\n",
    "\n",
    "    Args:\n",
    "        df (pd.DataFrame): Input DataFrame.\n",
    "        columns (Union[str, List[str]], optional): Column or list of columns to consider for row removal. \n",
    "                                                   If None, consider all columns. Default is None.\n",
    "    \n",
    "    Returns:\n",
    "        pd.DataFrame: DataFrame with rows containing missing values removed.\n",
    "    \"\"\"\n",
    "    \n",
    "    if columns is not None:\n",
    "        return df.dropna(subset=columns)\n",
    "    else:\n",
    "        return df.dropna()\n",
    "\n",
    "# Remove rows with missing values from whole DataFrame\n",
    "# df = _remove_rows_with_missing_values(df)\n",
    "\n",
    "# Remove rows with missing values only from columns A and B\n",
    "# df = _remove_rows_with_missing_values(df, columns=['A', 'B'])"
   ]
  },
  {
   "cell_type": "code",
   "execution_count": 32,
   "metadata": {
    "canvas": {
     "comments": [],
     "componentType": "CodeCell",
     "copiedOriginId": null,
     "diskcache": false,
     "headerColor": "transparent",
     "id": "e58922e7-0d9b-42c9-8be2-03d4880ae477",
     "isComponent": false,
     "name": "",
     "parents": []
    }
   },
   "outputs": [],
   "source": [
    "# Remove rows with missing values from whole DataFrame\n",
    "df = _remove_rows_with_missing_values(df)"
   ]
  },
  {
   "cell_type": "code",
   "execution_count": 33,
   "metadata": {
    "tags": []
   },
   "outputs": [
    {
     "data": {
      "text/html": [
       "<pre style=\"white-space:pre;overflow-x:auto;line-height:normal;font-family:Menlo,'DejaVu Sans Mono',consolas,'Courier New',monospace\"></pre>\n"
      ],
      "text/plain": []
     },
     "metadata": {},
     "output_type": "display_data"
    },
    {
     "data": {
      "text/html": [
       "<div>\n",
       "<style scoped>\n",
       "    .dataframe tbody tr th:only-of-type {\n",
       "        vertical-align: middle;\n",
       "    }\n",
       "\n",
       "    .dataframe tbody tr th {\n",
       "        vertical-align: top;\n",
       "    }\n",
       "\n",
       "    .dataframe thead th {\n",
       "        text-align: right;\n",
       "    }\n",
       "</style>\n",
       "<table border=\"1\" class=\"dataframe\">\n",
       "  <thead>\n",
       "    <tr style=\"text-align: right;\">\n",
       "      <th></th>\n",
       "      <th>year</th>\n",
       "      <th>URBAN_RURA</th>\n",
       "      <th>country</th>\n",
       "      <th>alt</th>\n",
       "      <th>chrps</th>\n",
       "      <th>deathcount</th>\n",
       "      <th>latnum</th>\n",
       "      <th>longnum</th>\n",
       "      <th>lst</th>\n",
       "      <th>marketm0</th>\n",
       "      <th>...</th>\n",
       "      <th>markets45</th>\n",
       "      <th>markets46</th>\n",
       "      <th>markets47</th>\n",
       "      <th>numevents</th>\n",
       "      <th>pasture</th>\n",
       "      <th>sif</th>\n",
       "      <th>slope</th>\n",
       "      <th>tree</th>\n",
       "      <th>tt00_500k</th>\n",
       "      <th>poorest</th>\n",
       "    </tr>\n",
       "  </thead>\n",
       "  <tbody>\n",
       "  </tbody>\n",
       "</table>\n",
       "<p>0 rows × 112 columns</p>\n",
       "</div>"
      ],
      "text/plain": [
       "\n",
       "Empty DataFrame\n",
       "Columns: \u001b[1m[\u001b[0myear, URBAN_RURA, country, alt, chrps, deathcount, latnum, longnum, lst, marketm0, marketm1, marketm2, marketm3, marketm4, marketm5, marketm6, marketm7, marketm8, marketm9, marketm10, marketm11, marketm12, marketm13, marketm14, marketm15, marketm16, marketm17, marketm18, marketm19, marketm20, marketm21, marketm22, marketm23, marketm24, marketm25, marketm26, marketm27, marketm28, marketm29, marketm30, marketm31, marketm32, marketm33, marketm34, marketm35, marketm36, marketm37, marketm38, marketm39, marketm40, marketm41, marketm42, marketm43, marketm44, marketm45, marketm46, marketm47, markets0, markets1, markets2, markets3, markets4, markets5, markets6, markets7, markets8, markets9, markets10, markets11, markets12, markets13, markets14, markets15, markets16, markets17, markets18, markets19, markets20, markets21, markets22, markets23, markets24, markets25, markets26, markets27, markets28, markets29, markets30, markets31, markets32, markets33, markets34, markets35, markets36, markets37, markets38, markets39, markets40, markets41, markets42, \u001b[33m...\u001b[0m\u001b[1m]\u001b[0m\n",
       "Index: \u001b[1m[\u001b[0m\u001b[1m]\u001b[0m\n",
       "\n",
       "\u001b[1m[\u001b[0m\u001b[1;36m0\u001b[0m rows x \u001b[1;36m112\u001b[0m columns\u001b[1m]\u001b[0m"
      ]
     },
     "execution_count": 33,
     "metadata": {},
     "output_type": "execute_result"
    }
   ],
   "source": [
    "df"
   ]
  },
  {
   "cell_type": "markdown",
   "metadata": {
    "canvas": {
     "comments": [],
     "componentType": "CodeCell",
     "copiedOriginId": null,
     "diskcache": false,
     "headerColor": "transparent",
     "id": "3f2a77ab-af55-4f93-b564-1ff1b5d3f20d",
     "isComponent": false,
     "name": "",
     "parents": []
    }
   },
   "source": [
    "## Impute missing values"
   ]
  },
  {
   "cell_type": "markdown",
   "metadata": {
    "canvas": {
     "comments": [],
     "componentType": "CodeCell",
     "copiedOriginId": null,
     "diskcache": false,
     "headerColor": "transparent",
     "id": "025ce395-c7b0-4d5b-9f47-2222fc808359",
     "isComponent": false,
     "name": "",
     "parents": []
    }
   },
   "source": [
    "### Simple impution with mean, median or zero"
   ]
  },
  {
   "cell_type": "code",
   "execution_count": null,
   "metadata": {
    "canvas": {
     "comments": [],
     "componentType": "CodeCell",
     "copiedOriginId": null,
     "diskcache": false,
     "headerColor": "transparent",
     "id": "5450fcb9-6a7f-420b-b81b-78bff5b25cba",
     "isComponent": false,
     "name": "",
     "parents": []
    }
   },
   "outputs": [],
   "source": [
    "from typing import List, Union\n",
    "\n",
    "def _impute_missing_values(df: pd.DataFrame, columns: Union[List[str], str], strategy: str = 'mean') -> pd.DataFrame:\n",
    "    \"\"\"\n",
    "    Impute missing values in specific columns of a DataFrame.\n",
    "\n",
    "    Args:\n",
    "        df (pd.DataFrame): Input DataFrame.\n",
    "        columns (Union[List[str], str]): Column or columns in which to impute missing values.\n",
    "        strategy (str, optional): The imputation strategy. Options are 'mean', 'median', 'mode', and 'zero'. Defaults to 'mean'.\n",
    "\n",
    "    Returns:\n",
    "        pd.DataFrame: DataFrame with missing values imputed in the specified columns.\n",
    "    \"\"\"\n",
    "\n",
    "    if not isinstance(columns, list):\n",
    "        columns = [columns]\n",
    "        \n",
    "    for column in columns:\n",
    "        if strategy == 'mean':\n",
    "            df[column].fillna(df[column].mean(), inplace=True)\n",
    "        elif strategy == 'median':\n",
    "            df[column].fillna(df[column].median(), inplace=True)\n",
    "        elif strategy == 'mode':\n",
    "            df[column].fillna(df[column].mode()[0], inplace=True)\n",
    "        elif strategy == 'zero':\n",
    "            df[column].fillna(0, inplace=True)\n",
    "\n",
    "    return df"
   ]
  },
  {
   "cell_type": "code",
   "execution_count": 1,
   "metadata": {
    "canvas": {
     "comments": [],
     "componentType": "CodeCell",
     "copiedOriginId": null,
     "diskcache": false,
     "headerColor": "transparent",
     "id": "14cea9dd-b401-49d4-80f0-93534c675666",
     "isComponent": false,
     "name": "",
     "parents": []
    }
   },
   "outputs": [],
   "source": [
    "# Impute missing values in columns 'A' and 'B' using the 'mean' strategy\n",
    "# df_imputed = _impute_missing_values(df.copy(), ['A', 'B'], 'mean')"
   ]
  },
  {
   "cell_type": "markdown",
   "metadata": {
    "canvas": {
     "comments": [],
     "componentType": "CodeCell",
     "copiedOriginId": null,
     "diskcache": false,
     "headerColor": "transparent",
     "id": "65253c28-1593-41de-9507-5e78c16a7068",
     "isComponent": false,
     "name": "",
     "parents": []
    }
   },
   "source": [
    "## Regression imputation"
   ]
  },
  {
   "cell_type": "code",
   "execution_count": null,
   "metadata": {
    "canvas": {
     "comments": [],
     "componentType": "CodeCell",
     "copiedOriginId": null,
     "diskcache": false,
     "headerColor": "transparent",
     "id": "00b4fe1e-d61a-416e-92f7-2ee99cc13122",
     "isComponent": false,
     "name": "",
     "parents": []
    }
   },
   "outputs": [],
   "source": [
    "from sklearn.linear_model import LinearRegression\n",
    "import numpy as np\n",
    "import pandas as pd\n",
    "\n",
    "def regression_impute(df: pd.DataFrame, target_column: str, feature_columns: list) -> pd.DataFrame:\n",
    "    \"\"\"\n",
    "    Impute missing values in a target column using regression on feature columns.\n",
    "\n",
    "    Args:\n",
    "        df (pd.DataFrame): Input DataFrame.\n",
    "        target_column (str): The column in which to impute missing values.\n",
    "        feature_columns (list): List of feature columns to use for imputation.\n",
    "\n",
    "    Returns:\n",
    "        pd.DataFrame: DataFrame with missing values imputed in the target column.\n",
    "    \"\"\"\n",
    "    \n",
    "    # Create separate dataframes for rows with missing and non-missing target values\n",
    "    df_missing = df[df[target_column].isna()]\n",
    "    df_not_missing = df.dropna(subset=[target_column])\n",
    "    \n",
    "    # Separate features and target for rows without missing target values\n",
    "    X_train = df_not_missing[feature_columns]\n",
    "    y_train = df_not_missing[target_column]\n",
    "    \n",
    "    # Fit a linear regression model\n",
    "    model = LinearRegression()\n",
    "    model.fit(X_train, y_train)\n",
    "    \n",
    "    # Predict target values for rows with missing target values\n",
    "    X_missing = df_missing[feature_columns]\n",
    "    y_pred = model.predict(X_missing)\n",
    "    \n",
    "    # Impute the predicted values back into the original dataframe\n",
    "    df.loc[df[target_column].isna(), target_column] = y_pred\n",
    "\n",
    "    return df\n"
   ]
  },
  {
   "cell_type": "code",
   "execution_count": null,
   "metadata": {
    "canvas": {
     "comments": [],
     "componentType": "CodeCell",
     "copiedOriginId": null,
     "diskcache": false,
     "headerColor": "transparent",
     "id": "db9a340b-4d6d-45b5-b466-467b58cb88ad",
     "isComponent": false,
     "name": "",
     "parents": []
    }
   },
   "outputs": [],
   "source": [
    "# Example usage:\n",
    "# Assume df is your DataFrame, 'age' is the column with missing values and ['income', 'education'] are features.\n",
    "# df = regression_impute(df, 'age', ['income', 'education'])"
   ]
  },
  {
   "cell_type": "markdown",
   "metadata": {
    "canvas": {
     "comments": [],
     "componentType": "CodeCell",
     "copiedOriginId": null,
     "diskcache": false,
     "headerColor": "transparent",
     "id": "247b8250-efc2-455c-ad97-73657f3f6049",
     "isComponent": false,
     "name": "",
     "parents": []
    }
   },
   "source": [
    "## Outliers detection"
   ]
  },
  {
   "cell_type": "code",
   "execution_count": 2,
   "metadata": {
    "canvas": {
     "comments": [],
     "componentType": "CodeCell",
     "copiedOriginId": null,
     "diskcache": false,
     "headerColor": "transparent",
     "id": "d0b15ed9-c945-4b5e-8bc8-ff47c323b7c4",
     "isComponent": false,
     "name": "",
     "parents": []
    }
   },
   "outputs": [
    {
     "ename": "NameError",
     "evalue": "name 'pd' is not defined",
     "output_type": "error",
     "traceback": [
      "\u001b[0;31m---------------------------------------------------------------------------\u001b[0m",
      "\u001b[0;31mNameError\u001b[0m                                 Traceback (most recent call last)",
      "Cell \u001b[0;32mIn[2], line 3\u001b[0m\n\u001b[1;32m      1\u001b[0m \u001b[38;5;28;01mfrom\u001b[39;00m \u001b[38;5;21;01msklearn\u001b[39;00m\u001b[38;5;21;01m.\u001b[39;00m\u001b[38;5;21;01mensemble\u001b[39;00m \u001b[38;5;28;01mimport\u001b[39;00m IsolationForest\n\u001b[0;32m----> 3\u001b[0m \u001b[38;5;28;01mdef\u001b[39;00m \u001b[38;5;21m_remove_outliers_isolation_forest\u001b[39m(df: \u001b[43mpd\u001b[49m\u001b[38;5;241m.\u001b[39mDataFrame, contamination: \u001b[38;5;28mfloat\u001b[39m \u001b[38;5;241m=\u001b[39m \u001b[38;5;241m0.2\u001b[39m) \u001b[38;5;241m-\u001b[39m\u001b[38;5;241m>\u001b[39m pd\u001b[38;5;241m.\u001b[39mDataFrame:\n\u001b[1;32m      4\u001b[0m \u001b[38;5;250m    \u001b[39m\u001b[38;5;124;03m\"\"\"\u001b[39;00m\n\u001b[1;32m      5\u001b[0m \u001b[38;5;124;03m    Remove outliers using the Isolation Forest algorithm.\u001b[39;00m\n\u001b[1;32m      6\u001b[0m \n\u001b[0;32m   (...)\u001b[0m\n\u001b[1;32m     12\u001b[0m \u001b[38;5;124;03m        pd.DataFrame: DataFrame with outliers removed.\u001b[39;00m\n\u001b[1;32m     13\u001b[0m \u001b[38;5;124;03m    \"\"\"\u001b[39;00m\n\u001b[1;32m     15\u001b[0m     \u001b[38;5;66;03m# Identify numerical columns\u001b[39;00m\n",
      "\u001b[0;31mNameError\u001b[0m: name 'pd' is not defined"
     ]
    }
   ],
   "source": [
    "from sklearn.ensemble import IsolationForest\n",
    "\n",
    "def _remove_outliers_isolation_forest(df: pd.DataFrame, contamination: float = 0.2) -> pd.DataFrame:\n",
    "    \"\"\"\n",
    "    Remove outliers using the Isolation Forest algorithm.\n",
    "\n",
    "    Args:\n",
    "        df (pd.DataFrame): Input DataFrame with numerical columns.\n",
    "        contamination (float): Proportion of outliers in the dataset.\n",
    "    \n",
    "    Returns:\n",
    "        pd.DataFrame: DataFrame with outliers removed.\n",
    "    \"\"\"\n",
    "\n",
    "    # Identify numerical columns\n",
    "    numerical_cols = df.select_dtypes(include=['number']).columns\n",
    "\n",
    "    # Initialize the IsolationForest model\n",
    "    clf = IsolationForest(contamination=contamination) \n",
    "\n",
    "    # Fit the model on numerical columns\n",
    "    clf.fit(df[numerical_cols])\n",
    "\n",
    "    # Get outlier predictions\n",
    "    outlier_predictions = clf.predict(df[numerical_cols])\n",
    "\n",
    "    # Remove outliers from the original DataFrame based on the predictions\n",
    "    df_filtered = df[outlier_predictions == 1]\n",
    "\n",
    "    return df_filtered"
   ]
  },
  {
   "cell_type": "code",
   "execution_count": null,
   "metadata": {
    "canvas": {
     "comments": [],
     "componentType": "CodeCell",
     "copiedOriginId": null,
     "diskcache": false,
     "headerColor": "transparent",
     "id": "6ded5017-c9e3-4e36-8210-b556e73a5b5a",
     "isComponent": false,
     "name": "",
     "parents": []
    }
   },
   "outputs": [],
   "source": [
    "def preprocess_data(data: pd.DataFrame, parameters: Dict) -> pd.DataFrame:\n",
    "    \"\"\"Preprocesses data.\n",
    "\n",
    "    Args:\n",
    "        data: Raw data.\n",
    "        \n",
    "    Returns:\n",
    "        Preprocessed data, with missing values removed.\n",
    "    \"\"\"\n",
    "    # Example\n",
    "    df = data[parameters[\"features\"]]\n",
    "    df = _remove_missing_values(df)\n",
    "    df = _remove_outliers_isolation_forest(df)\n",
    "    preprocessed_data = df\n",
    "    \n",
    "    return preprocessed_data"
   ]
  },
  {
   "cell_type": "code",
   "execution_count": null,
   "metadata": {
    "canvas": {
     "comments": [],
     "componentType": "CodeCell",
     "copiedOriginId": null,
     "diskcache": false,
     "headerColor": "transparent",
     "id": "71c4a2c8-b4d7-482d-a160-73828e350237",
     "isComponent": false,
     "name": "",
     "parents": []
    }
   },
   "outputs": [],
   "source": [
    "preprocessed_df = preprocess_data(df, features)"
   ]
  },
  {
   "cell_type": "markdown",
   "metadata": {
    "canvas": {
     "comments": [],
     "componentType": "CodeCell",
     "copiedOriginId": null,
     "diskcache": false,
     "headerColor": "transparent",
     "id": "43280a72-d339-4f0a-8501-2eadf0b2eec2",
     "isComponent": false,
     "name": "",
     "parents": []
    }
   },
   "source": [
    "# Feature engineering"
   ]
  },
  {
   "cell_type": "markdown",
   "metadata": {
    "canvas": {
     "comments": [],
     "componentType": "CodeCell",
     "copiedOriginId": null,
     "diskcache": false,
     "headerColor": "transparent",
     "id": "86c1d8cc-39b1-4efa-b372-e8b3060e9be5",
     "isComponent": false,
     "name": "",
     "parents": []
    }
   },
   "source": [
    "## Encoding Categorical Variables"
   ]
  },
  {
   "cell_type": "code",
   "execution_count": null,
   "metadata": {
    "canvas": {
     "comments": [],
     "componentType": "CodeCell",
     "copiedOriginId": null,
     "diskcache": false,
     "headerColor": "transparent",
     "id": "bd1d931c-37b6-4a95-a909-e65a910078e3",
     "isComponent": false,
     "name": "",
     "parents": []
    }
   },
   "outputs": [],
   "source": [
    "def _one_hot_encode(df: pd.DataFrame) -> pd.DataFrame:\n",
    "    # One-hot encode 'Country' and 'Industry (Exiobase)' columns\n",
    "    df_encoded = pd.get_dummies(df, columns=['Industry (Exiobase)'])\n",
    "    return df_encoded"
   ]
  },
  {
   "cell_type": "markdown",
   "metadata": {
    "canvas": {
     "comments": [],
     "componentType": "CodeCell",
     "copiedOriginId": null,
     "diskcache": false,
     "headerColor": "transparent",
     "id": "bda5b701-366c-4987-bb08-a57ccf05ecad",
     "isComponent": false,
     "name": "",
     "parents": []
    }
   },
   "source": [
    "## Normalization/Standardization "
   ]
  },
  {
   "cell_type": "code",
   "execution_count": null,
   "metadata": {
    "canvas": {
     "comments": [],
     "componentType": "CodeCell",
     "copiedOriginId": null,
     "diskcache": false,
     "headerColor": "transparent",
     "id": "678823f3-e419-4e83-8d15-7a11f0470799",
     "isComponent": false,
     "name": "",
     "parents": []
    }
   },
   "outputs": [],
   "source": [
    "def _normalization(df: pd.DataFrame) -> pd.DataFrame:\n",
    "    # Create the scaler\n",
    "    scaler_standard = StandardScaler()\n",
    "\n",
    "    # Fit the scaler to the data (excluding categorical data if not already encoded)\n",
    "    df_normalized_standard = pd.DataFrame(scaler_standard.fit_transform(df), columns=df.columns)\n",
    "    \n",
    "    return df_normalized_standard"
   ]
  },
  {
   "cell_type": "code",
   "execution_count": null,
   "metadata": {
    "canvas": {
     "comments": [],
     "componentType": "CodeCell",
     "copiedOriginId": null,
     "diskcache": false,
     "headerColor": "transparent",
     "id": "bd405a2c-b683-4222-90c8-3913cfbfd5f4",
     "isComponent": false,
     "name": "",
     "parents": []
    }
   },
   "outputs": [],
   "source": [
    "def feature_engineering(df: pd.DataFrame) -> pd.DataFrame:\n",
    "    \"\"\"\n",
    "    Conducts feature engineering on the given DataFrame.\n",
    "\n",
    "    Steps:\n",
    "    1. One-Hot Encoding: One-hot encodes categorical features.\n",
    "    2. Normalization: Standardizes the feature values.\n",
    "    ...\n",
    "\n",
    "    Args:\n",
    "        df: Original DataFrame.\n",
    "\n",
    "    Returns:\n",
    "        df_feature_engineered: DataFrame after feature engineering.\n",
    "    \"\"\"\n",
    "\n",
    "    df = _one_hot_encode(df)\n",
    "    df = _normalization(df)\n",
    "    df_feature_engineered = df\n",
    "\n",
    "    return df_feature_engineered"
   ]
  },
  {
   "cell_type": "code",
   "execution_count": null,
   "metadata": {
    "canvas": {
     "comments": [],
     "componentType": "CodeCell",
     "copiedOriginId": null,
     "diskcache": false,
     "headerColor": "transparent",
     "id": "5261e00b-8d11-435e-9aa5-e2d7cad6b1f4",
     "isComponent": false,
     "name": "",
     "parents": []
    }
   },
   "outputs": [],
   "source": [
    "df_feature_engineered = feature_engineering(preprocessed_df)"
   ]
  },
  {
   "cell_type": "markdown",
   "metadata": {
    "canvas": {
     "comments": [],
     "componentType": "CodeCell",
     "copiedOriginId": null,
     "diskcache": false,
     "headerColor": "transparent",
     "id": "a53d05b9-81f4-47ee-96c3-8cacfa712a1a",
     "isComponent": false,
     "name": "",
     "parents": []
    }
   },
   "source": [
    "# Training"
   ]
  },
  {
   "cell_type": "markdown",
   "metadata": {
    "canvas": {
     "comments": [],
     "componentType": "CodeCell",
     "copiedOriginId": null,
     "diskcache": false,
     "headerColor": "transparent",
     "id": "2565176d-cd0f-4a5e-9384-f9162a9d8fa6",
     "isComponent": false,
     "name": "",
     "parents": []
    }
   },
   "source": [
    "## Train, test split"
   ]
  },
  {
   "cell_type": "code",
   "execution_count": null,
   "metadata": {
    "canvas": {
     "comments": [],
     "componentType": "CodeCell",
     "copiedOriginId": null,
     "diskcache": false,
     "headerColor": "transparent",
     "id": "fcddec1f-ec0a-4cb2-946e-f01149c1b2b8",
     "isComponent": false,
     "name": "",
     "parents": []
    }
   },
   "outputs": [],
   "source": [
    "def split_data(data: pd.DataFrame, model_options: Dict) -> Tuple:\n",
    "    \"\"\"Splits data into features and targets training and test sets.\n",
    "\n",
    "    Args:\n",
    "        data: Data containing features and target.\n",
    "        parameters: Parameters defined in parameters/data_science.yml.\n",
    "    Returns:\n",
    "        Split data.\n",
    "    \"\"\"\n",
    "    # X = data[parameters[\"features\"]]\n",
    "    X = data[parameters[\"features\"]].drop(\"Scope 3\", axis=1)\n",
    "    y = data[\"Scope 3\"]\n",
    "    X_train, X_test, y_train, y_test = train_test_split(\n",
    "        X, y, test_size=parameters[\"test_size\"], random_state=parameters[\"random_state\"]\n",
    "    )\n",
    "    return X_train, X_test, y_train, y_test"
   ]
  },
  {
   "cell_type": "code",
   "execution_count": null,
   "metadata": {
    "canvas": {
     "comments": [],
     "componentType": "CodeCell",
     "copiedOriginId": null,
     "diskcache": false,
     "headerColor": "transparent",
     "id": "00035b06-a5bf-4880-8349-23a092e2ff0a",
     "isComponent": false,
     "name": "",
     "parents": []
    }
   },
   "outputs": [],
   "source": [
    "parameters = catalog.load(\"params:model_options\")"
   ]
  },
  {
   "cell_type": "code",
   "execution_count": null,
   "metadata": {
    "canvas": {
     "comments": [],
     "componentType": "CodeCell",
     "copiedOriginId": null,
     "diskcache": false,
     "headerColor": "transparent",
     "id": "672957f5-664a-4915-9d44-6ed17c9dd872",
     "isComponent": false,
     "name": "",
     "parents": []
    }
   },
   "outputs": [],
   "source": [
    "# Assuming df_feature_engineered is your DataFrame and parameters is your configuration dictionary\n",
    "X_train, X_test, y_train, y_test = split_data(df_feature_engineered, parameters)"
   ]
  },
  {
   "cell_type": "markdown",
   "metadata": {
    "canvas": {
     "comments": [],
     "componentType": "CodeCell",
     "copiedOriginId": null,
     "diskcache": false,
     "headerColor": "transparent",
     "id": "5b842705-ccdf-4de9-86c9-b86b3db508f1",
     "isComponent": false,
     "name": "",
     "parents": []
    }
   },
   "source": [
    "## Train"
   ]
  },
  {
   "cell_type": "markdown",
   "metadata": {
    "canvas": {
     "comments": [],
     "componentType": "CodeCell",
     "copiedOriginId": null,
     "diskcache": false,
     "headerColor": "transparent",
     "id": "e60fc8a2-b879-460a-b3e1-91026dd6ebba",
     "isComponent": false,
     "name": "",
     "parents": []
    }
   },
   "source": [
    "## AutoML modeling"
   ]
  },
  {
   "cell_type": "code",
   "execution_count": null,
   "metadata": {
    "canvas": {
     "comments": [],
     "componentType": "CodeCell",
     "copiedOriginId": null,
     "diskcache": false,
     "headerColor": "transparent",
     "id": "250a06cd-ba17-4339-830c-89c757f0845b",
     "isComponent": false,
     "name": "",
     "parents": []
    }
   },
   "outputs": [],
   "source": [
    "import xgboost as xgb\n",
    "from sklearn.metrics import mean_squared_error, r2_score\n",
    "import logging\n",
    "import pandas as pd\n",
    "from typing import Any\n",
    "\n",
    "def train_model(X_train: pd.DataFrame, y_train: pd.Series) -> Any:\n",
    "    \"\"\"Trains the XGBoost model.\n",
    "    \n",
    "    Args:\n",
    "        X_train: Training data of independent features.\n",
    "        y_train: Training data for target variable.\n",
    "        \n",
    "    Returns:\n",
    "        Trained model.\n",
    "    \"\"\"\n",
    "    params = {\n",
    "        'alpha': 9.418025790529975e-05,\n",
    "        'colsample_bytree': 0.73850137825373,\n",
    "        'eta': 0.03756810920990241,\n",
    "        'gamma': 1.8103086083962833e-05,\n",
    "        'lambda': 0.006052853661670603,\n",
    "        'max_depth': 4,\n",
    "        'min_child_weight': 1.0000000000000004e-06,\n",
    "        'objective': 'reg:squarederror',\n",
    "        'subsample': 0.8954379516782436,\n",
    "        'eval_metric': ['rmse', 'mae']\n",
    "    }\n",
    "    dtrain = xgb.DMatrix(X_train, label=y_train)\n",
    "    model = xgb.train(params, dtrain, num_boost_round=674)\n",
    "    return model"
   ]
  },
  {
   "cell_type": "code",
   "execution_count": null,
   "metadata": {
    "canvas": {
     "comments": [],
     "componentType": "CodeCell",
     "copiedOriginId": null,
     "diskcache": false,
     "headerColor": "transparent",
     "id": "baa900dc-0b98-4787-9a56-89a9c44351b8",
     "isComponent": false,
     "name": "",
     "parents": []
    }
   },
   "outputs": [],
   "source": [
    "# Train the model\n",
    "trained_model = train_model(X_train, y_train)"
   ]
  },
  {
   "cell_type": "markdown",
   "metadata": {
    "canvas": {
     "comments": [],
     "componentType": "CodeCell",
     "copiedOriginId": null,
     "diskcache": false,
     "headerColor": "transparent",
     "id": "5e9746c5-2ec6-4714-9c31-ba4f858da2d8",
     "isComponent": false,
     "name": "",
     "parents": []
    }
   },
   "source": [
    "# Evaluation"
   ]
  },
  {
   "cell_type": "code",
   "execution_count": null,
   "metadata": {
    "canvas": {
     "comments": [],
     "componentType": "CodeCell",
     "copiedOriginId": null,
     "diskcache": false,
     "headerColor": "transparent",
     "id": "0100350e-c1f7-4755-b1b2-e4b961211c1a",
     "isComponent": false,
     "name": "",
     "parents": []
    }
   },
   "outputs": [],
   "source": [
    "def evaluate_model(model: Any, X_test: pd.DataFrame, y_test: pd.Series):\n",
    "    \"\"\"Calculates and logs the coefficient of determination and RMSE.\n",
    "    \n",
    "    Args:\n",
    "        model: Trained XGBoost model.\n",
    "        X_test: Testing data of independent features.\n",
    "        y_test: Testing data for target variable.\n",
    "    \"\"\"\n",
    "    dtest = xgb.DMatrix(X_test, label=y_test)\n",
    "    y_pred = model.predict(dtest)\n",
    "    score = r2_score(y_test, y_pred)\n",
    "    rmse = mean_squared_error(y_test, y_pred, squared=False)\n",
    "    \n",
    "    print(f\"Model has a coefficient R^2 of {score:.3f} on test data.\")\n",
    "    print(f\"Model has a RMSE of {rmse:.3f} on test data.\")\n",
    "    \n",
    "    logger = logging.getLogger(__name__)\n",
    "    logger.info(f\"Model has a coefficient R^2 of {score:.3f} on test data.\")\n",
    "    logger.info(f\"Model has a RMSE of {rmse:.3f} on test data.\")"
   ]
  },
  {
   "cell_type": "code",
   "execution_count": null,
   "metadata": {
    "canvas": {
     "comments": [],
     "componentType": "CodeCell",
     "copiedOriginId": null,
     "diskcache": false,
     "headerColor": "transparent",
     "id": "ab20eee7-96a3-41a4-a9ee-41e55b83d7b9",
     "isComponent": false,
     "name": "",
     "parents": []
    }
   },
   "outputs": [],
   "source": [
    "# Evaluate the model\n",
    "evaluate_model(trained_model, X_test, y_test)"
   ]
  },
  {
   "cell_type": "markdown",
   "metadata": {
    "canvas": {
     "comments": [],
     "componentType": "CodeCell",
     "copiedOriginId": null,
     "diskcache": false,
     "headerColor": "transparent",
     "id": "c1af0938-b5db-4475-87a0-0067d0460a17",
     "isComponent": false,
     "name": "",
     "parents": []
    }
   },
   "source": [
    "# Hyperparameter tuning"
   ]
  },
  {
   "cell_type": "code",
   "execution_count": null,
   "metadata": {
    "canvas": {
     "comments": [],
     "componentType": "CodeCell",
     "copiedOriginId": null,
     "diskcache": false,
     "headerColor": "transparent",
     "id": "cda8ceef-19b0-4157-b4e1-3f74c6153f79",
     "isComponent": false,
     "name": "",
     "parents": []
    }
   },
   "outputs": [],
   "source": []
  },
  {
   "cell_type": "markdown",
   "metadata": {
    "canvas": {
     "comments": [],
     "componentType": "CodeCell",
     "copiedOriginId": null,
     "diskcache": false,
     "headerColor": "transparent",
     "id": "06f59ed9-71aa-443e-8b1d-7902a5510851",
     "isComponent": false,
     "name": "",
     "parents": []
    }
   },
   "source": [
    "# Model Interpretation"
   ]
  },
  {
   "cell_type": "code",
   "execution_count": null,
   "metadata": {
    "canvas": {
     "comments": [],
     "componentType": "CodeCell",
     "copiedOriginId": null,
     "diskcache": false,
     "headerColor": "transparent",
     "id": "1b47ab3c-42ac-44ef-84bf-03b2d7e42a5a",
     "isComponent": false,
     "name": "",
     "parents": []
    }
   },
   "outputs": [],
   "source": []
  },
  {
   "cell_type": "markdown",
   "metadata": {
    "canvas": {
     "comments": [],
     "componentType": "CodeCell",
     "copiedOriginId": null,
     "diskcache": false,
     "headerColor": "transparent",
     "id": "89b5390b-305f-40a1-93c9-044c514a9b19",
     "isComponent": false,
     "name": "",
     "parents": []
    }
   },
   "source": [
    "# Results and conclusions"
   ]
  },
  {
   "cell_type": "code",
   "execution_count": null,
   "metadata": {
    "canvas": {
     "comments": [],
     "componentType": "CodeCell",
     "copiedOriginId": null,
     "diskcache": false,
     "headerColor": "transparent",
     "id": "1a0086c3-ba0b-49a6-9da0-80e85201b036",
     "isComponent": false,
     "name": "",
     "parents": []
    }
   },
   "outputs": [],
   "source": []
  },
  {
   "cell_type": "markdown",
   "metadata": {
    "canvas": {
     "comments": [],
     "componentType": "CodeCell",
     "copiedOriginId": null,
     "diskcache": false,
     "headerColor": "transparent",
     "id": "0d106976-aa47-4709-ae3f-41a6a2e5db67",
     "isComponent": false,
     "name": "",
     "parents": []
    }
   },
   "source": [
    "# References and Acknowledgments\n",
    "```"
   ]
  },
  {
   "cell_type": "markdown",
   "metadata": {
    "canvas": {
     "comments": [],
     "componentType": "CodeCell",
     "copiedOriginId": null,
     "diskcache": false,
     "headerColor": "transparent",
     "id": "4409999b-f0bc-4088-8e5f-3d0a4ce4c08f",
     "isComponent": false,
     "name": "",
     "parents": []
    }
   },
   "source": []
  }
 ],
 "metadata": {
  "canvas": {
   "colorPalette": [
    "inherit",
    "inherit",
    "inherit",
    "inherit",
    "inherit",
    "inherit",
    "inherit",
    "inherit",
    "inherit",
    "inherit"
   ],
   "parameters": [],
   "version": "1.0"
  },
  "kernelspec": {
   "display_name": "Kedro (pipeline)",
   "language": "python",
   "name": "kedro_pipeline"
  },
  "language_info": {
   "codemirror_mode": {
    "name": "ipython",
    "version": 3
   },
   "file_extension": ".py",
   "mimetype": "text/x-python",
   "name": "python",
   "nbconvert_exporter": "python",
   "pygments_lexer": "ipython3",
   "version": "3.10.13"
  }
 },
 "nbformat": 4,
 "nbformat_minor": 4
}
