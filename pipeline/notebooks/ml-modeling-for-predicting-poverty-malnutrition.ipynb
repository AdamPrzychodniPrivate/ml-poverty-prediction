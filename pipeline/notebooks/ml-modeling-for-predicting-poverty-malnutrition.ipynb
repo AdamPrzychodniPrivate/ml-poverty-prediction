{
 "cells": [
  {
   "cell_type": "markdown",
   "id": "305e6f99",
   "metadata": {
    "papermill": {
     "duration": 0.009417,
     "end_time": "2024-01-10T13:35:32.673281",
     "exception": false,
     "start_time": "2024-01-10T13:35:32.663864",
     "status": "completed"
    },
    "tags": []
   },
   "source": [
    "# Machine Learning Modeling for Predicting Poverty and Malnutrition\n",
    "\n",
    "This notebook is dedicated to developing a machine learning model aimed at predicting poverty and malnutrition rates. The approach and methodology implemented here are greatly inspired by the research paper titled \"Multivariate Random Forest Prediction of Poverty and Malnutrition Prevalence\" (2021) authored by Browne et al.\n",
    "\n",
    "## Inspiration from the Research Paper\n",
    "\n",
    "The cornerstone of this notebook lies in the methodologies introduced by Browne and their team. Their work in applying multivariate random forest techniques to predict poverty and malnutrition provides a framework for this modeling.\n",
    "\n",
    "### Key Highlight from the Paper:\n",
    "- **Outcome and Impact**: The paper demonstrates significant potential in using machine learning for social good, specifically in predicting crucial human welfare indicators.\n",
    "\n",
    "## Implementation in This Notebook\n",
    "\n",
    "Building upon the insights from Browne et al.'s paper, this notebook implements a similar approach with some modifications. Unlike the approach in paper, which filters data by year and country, this notebook utilizes the entire dataset without such specific filtering, providing a more comprehensive view across different timeframes and geographical locations.\n"
   ]
  },
  {
   "cell_type": "code",
   "execution_count": 1,
   "id": "decdc801",
   "metadata": {
    "execution": {
     "iopub.execute_input": "2024-01-10T13:35:32.692052Z",
     "iopub.status.busy": "2024-01-10T13:35:32.691458Z",
     "iopub.status.idle": "2024-01-10T13:35:32.701101Z",
     "shell.execute_reply": "2024-01-10T13:35:32.700448Z"
    },
    "papermill": {
     "duration": 0.021861,
     "end_time": "2024-01-10T13:35:32.703657",
     "exception": false,
     "start_time": "2024-01-10T13:35:32.681796",
     "status": "completed"
    },
    "tags": []
   },
   "outputs": [],
   "source": [
    "import os\n",
    "\n",
    "# Creating directories for code from research paper \n",
    "# Directory for saving .npy files\n",
    "directory = '/kaggle/working/data/W'\n",
    "if not os.path.exists(directory):\n",
    "    os.makedirs(directory)\n",
    "\n",
    "# Directory for saving results\n",
    "results_directory = '/kaggle/working/results'\n",
    "if not os.path.exists(results_directory):\n",
    "    os.makedirs(results_directory)"
   ]
  },
  {
   "cell_type": "markdown",
   "id": "3600291a",
   "metadata": {
    "papermill": {
     "duration": 0.008087,
     "end_time": "2024-01-10T13:35:32.720779",
     "exception": false,
     "start_time": "2024-01-10T13:35:32.712692",
     "status": "completed"
    },
    "tags": []
   },
   "source": [
    "# Contemporaneous Forecasting"
   ]
  },
  {
   "cell_type": "markdown",
   "id": "23d76789",
   "metadata": {
    "papermill": {
     "duration": 0.008125,
     "end_time": "2024-01-10T13:35:32.737175",
     "exception": false,
     "start_time": "2024-01-10T13:35:32.729050",
     "status": "completed"
    },
    "tags": []
   },
   "source": [
    " ## Original code from research paper, only directories was adjusted to kaggles"
   ]
  },
  {
   "cell_type": "markdown",
   "id": "095617ab",
   "metadata": {
    "papermill": {
     "duration": 0.007911,
     "end_time": "2024-01-10T13:35:32.753570",
     "exception": false,
     "start_time": "2024-01-10T13:35:32.745659",
     "status": "completed"
    },
    "tags": []
   },
   "source": [
    "**[Link to the code](http://barrett.dyson.cornell.edu/research/code.html)**"
   ]
  },
  {
   "cell_type": "code",
   "execution_count": 2,
   "id": "a67e9d4f",
   "metadata": {
    "execution": {
     "iopub.execute_input": "2024-01-10T13:35:32.771795Z",
     "iopub.status.busy": "2024-01-10T13:35:32.771485Z",
     "iopub.status.idle": "2024-01-10T13:35:32.778691Z",
     "shell.execute_reply": "2024-01-10T13:35:32.777326Z"
    },
    "papermill": {
     "duration": 0.019497,
     "end_time": "2024-01-10T13:35:32.781238",
     "exception": false,
     "start_time": "2024-01-10T13:35:32.761741",
     "status": "completed"
    },
    "tags": []
   },
   "outputs": [],
   "source": [
    "# import numpy as np\n",
    "# import pandas as pd\n",
    "# import pickle\n",
    "# import pdb\n",
    "# from sklearn.ensemble import RandomForestRegressor as RF\n",
    "# from sklearn.metrics import r2_score as r2\n",
    "# from sklearn.metrics import mean_squared_error as mse\n",
    "# from sklearn.model_selection import train_test_split\n",
    "# from sklearn.linear_model import Ridge as ridge\n",
    "# ##set seed\n",
    "# np.random.seed(6023)\n",
    "\n",
    "# pd.options.mode.chained_assignment = None  # default='warn'\n",
    "\n",
    "# nt = 2000\n",
    "# folds = 5\n",
    "# rftypes = ['ind','joint'] ##ind must be first\n",
    "# countries = [\"Bangladesh\",\"Ethiopia\",\"Ghana\",\"Guatemala\",\"Honduras\",\"Mali\",\"Nepal\",\"Kenya\",\"Senegal\",\"Uganda\",\"Nigeria\"]\n",
    "# pyears = [[\"04\",\"07\",\"11\",\"14\"],[\"05\",\"11\",\"16\"],[\"08\",\"14\"],[\"14\"],[\"11\"],[\"06\",\"12\"],[\"06\",\"11\",\"16\"],['08','14'],[\"05\",'10'],[\"06\",'11','16'],[\"08\",\"13\"]]\n",
    "# outcomes = ['stunted', 'wasted',  'healthy', 'poorest','underweight_bmi']\n",
    "# syears = np.sort(list(set([y for years in pyears for y in years])))\n",
    "# xa = pd.read_csv('/kaggle/input/ml-prediction-of-poverty-and-malnutrition-dataset/data.csv')\n",
    "# imps = [[] for country in countries]\n",
    "\n",
    "# ##for each survey year, for each country\n",
    "# for i,year in enumerate(syears):\n",
    "# \tfor j,country in enumerate(countries):\n",
    "# \t\tprint(i,j)\t\t\n",
    "# \t\t##filter data\n",
    "# \t\tx = xa[xa.country == country]\n",
    "# \t\tx = x.drop('country',axis=1)\n",
    "# \t\tx = x[x.year <= int('20' + year)]\n",
    "\n",
    "# \t\tif np.shape(x)[0]>0:\n",
    "\n",
    "# \t\t\t##drop largely missing features\n",
    "# \t\t\tmask = np.array(x.isnull().sum()/len(x))\t\t\t\n",
    "# \t\t\tx = x.loc[:,mask<.2]\n",
    "\n",
    "# \t\t\t##drop rows with missing data\n",
    "# \t\t\tx = x.dropna(axis=0)\n",
    "\n",
    "# \t\t\t##test train split and CV\n",
    "# \t\t\txtr = x[x.year < int('20' + year)]\n",
    "# \t\t\tx = x[x.year == int('20' + year)]\n",
    "# \t\t\tif np.shape(x)[0]>0:\n",
    "# \t\t\t\tq = np.arange(np.shape(x)[0])\n",
    "# \t\t\t\tfor fold in range(folds):\n",
    "# \t\t\t\t\tnp.random.shuffle(q)\n",
    "# \t\t\t\t\ttrinds = q[:int(.8*len(q))]\n",
    "# \t\t\t\t\tteinds = q[int(.8*len(q)):]\n",
    "# \t\t\t\t\txtrf = pd.concat([xtr,x.iloc[trinds,:]],ignore_index=True)\n",
    "# \t\t\t\t\txtef = x.iloc[teinds,:]\n",
    "\n",
    "# \t\t\t\t\t##make random forests\n",
    "# \t\t\t\t\tlabs = list(xtrf.columns)[1:-5]\n",
    "# \t\t\t\t\tfor rftype in rftypes:\n",
    "# \t\t\t\t\t\tif rftype =='joint':\n",
    "# \t\t\t\t\t\t\tW = np.load('/kaggle/working/data/W/W'+year+country+'c.npy')\n",
    "# \t\t\t\t\t\t\tytrf = np.dot(W,xtrf[outcomes].T).T\n",
    "# \t\t\t\t\t\t\tytef = np.dot(W,xtef[outcomes].T).T\n",
    "# \t\t\t\t\t\t\trf = RF(nt,max_depth=4,max_features = .333)\n",
    "# \t\t\t\t\t\t\trf = rf.fit(xtrf[labs],ytrf)\n",
    "# \t\t\t\t\t\t\tpredtr =  rf.predict(xtrf[labs])\n",
    "# \t\t\t\t\t\t\tpredte = rf.predict(xtef[labs])\n",
    "# \t\t\t\t\t\t\tWinv = np.linalg.inv(W)\n",
    "# \t\t\t\t\t\t\tpredtr = np.dot(Winv,predtr.T).T\n",
    "# \t\t\t\t\t\t\tpredte = np.dot(Winv,predte.T).T\n",
    "# \t\t\t\t\t\t\timps[j].append(rf.feature_importances_)\n",
    "\t\t\n",
    "# \t\t\t\t\t\t\tfor k,outcome in enumerate(outcomes):\n",
    "# \t\t\t\t\t\t\t\txtrf[outcome+'rf' + rftype] = predtr[:,k]\t\t\t\t\n",
    "# \t\t\t\t\t\t\t\txtef[outcome+'rf'+ rftype] = predte[:,k] \n",
    "\n",
    "# \t\t\t\t\t\telse:\n",
    "# \t\t\t\t\t\t\tytrf = xtrf[outcomes]\n",
    "# \t\t\t\t\t\t\tytef = xtef[outcomes]\n",
    "# \t\t\t\t\t\t\tfor outcome in outcomes:\n",
    "# \t\t\t\t\t\t\t\trf = RF(nt,max_depth=4,max_features = .333)\n",
    "# \t\t\t\t\t\t\t\trf = rf.fit(xtrf[labs],ytrf[outcome])\n",
    "# \t\t\t\t\t\t\t\txtrf[outcome+'rf' + rftype] = rf.predict(xtrf[labs])\n",
    "# \t\t\t\t\t\t\t\txtef[outcome+'rf' + rftype] = rf.predict(xtef[labs])\t\t\t\t\n",
    "# \t\t\t\t\t\t\tW = np.linalg.svd(np.corrcoef((np.array(xtrf[outcomes])-np.array(xtrf[[outcome + 'rfind' for outcome in outcomes]])).T))[2]\n",
    "# \t\t\t\t\t\t\tnp.save('/kaggle/working/data/W/W'+year+country+'c',W)\n",
    "\n",
    "# \t\t\t\t\txtrf = xtrf[outcomes + [outcome + 'rfind' for outcome in outcomes] + [outcome + 'rfjoint' for outcome in outcomes]]\t\n",
    "# \t\t\t\t\txtef = xtef[outcomes + [outcome + 'rfind' for outcome in outcomes] + [outcome + 'rfjoint' for outcome in outcomes]]\n",
    "\n",
    "# \t\t\t\t\twith open('/kaggle/working/results/'+year+country+'resultscrf' +str(fold) +'.pkl','wb') as f:\n",
    "# \t\t\t\t\t\tpickle.dump([xtrf,xtef],f)\n",
    "                        "
   ]
  },
  {
   "cell_type": "code",
   "execution_count": 3,
   "id": "771b7fb3",
   "metadata": {
    "execution": {
     "iopub.execute_input": "2024-01-10T13:35:32.799922Z",
     "iopub.status.busy": "2024-01-10T13:35:32.799271Z",
     "iopub.status.idle": "2024-01-10T13:35:34.491581Z",
     "shell.execute_reply": "2024-01-10T13:35:34.490256Z"
    },
    "papermill": {
     "duration": 1.704235,
     "end_time": "2024-01-10T13:35:34.493997",
     "exception": false,
     "start_time": "2024-01-10T13:35:32.789762",
     "status": "completed"
    },
    "tags": []
   },
   "outputs": [],
   "source": [
    "import numpy as np\n",
    "import pandas as pd\n",
    "from typing import Tuple, Dict, List\n",
    "import yaml\n",
    "\n",
    "from sklearn.model_selection import KFold\n",
    "from sklearn.ensemble import RandomForestRegressor as RF\n",
    "from sklearn.metrics import r2_score, mean_squared_error"
   ]
  },
  {
   "cell_type": "markdown",
   "id": "b01d9737",
   "metadata": {
    "papermill": {
     "duration": 0.008152,
     "end_time": "2024-01-10T13:35:34.511152",
     "exception": false,
     "start_time": "2024-01-10T13:35:34.503000",
     "status": "completed"
    },
    "tags": []
   },
   "source": [
    "### RF method: independent\n",
    "##### In this method, a separate Random Forest model is trained for each outcome variable. This means that for each of the outcomes (like 'stunted', 'wasted', etc.), an individual model is created and trained only on that specific outcome. This approach treats each outcome as a distinct problem and doesn't account for potential correlations between different outcomes."
   ]
  },
  {
   "cell_type": "code",
   "execution_count": 4,
   "id": "05e223b2",
   "metadata": {
    "execution": {
     "iopub.execute_input": "2024-01-10T13:35:34.529346Z",
     "iopub.status.busy": "2024-01-10T13:35:34.528863Z",
     "iopub.status.idle": "2024-01-10T13:35:34.845982Z",
     "shell.execute_reply": "2024-01-10T13:35:34.845011Z"
    },
    "papermill": {
     "duration": 0.328538,
     "end_time": "2024-01-10T13:35:34.847959",
     "exception": false,
     "start_time": "2024-01-10T13:35:34.519421",
     "status": "completed"
    },
    "tags": []
   },
   "outputs": [],
   "source": [
    "# Load data \n",
    "df = pd.read_csv(\"/kaggle/input/ml-prediction-of-poverty-and-malnutrition-dataset/data.csv\")\n",
    "\n",
    "# Load YAML configuration file for parameters_data_processing\n",
    "# These are just defined variables which will be used in data preprocessing \n",
    "with open('/kaggle/input/parametrs-for-predicting-poverty/parameters_data_processing.yml', 'r') as file:\n",
    "    config = yaml.safe_load(file)\n",
    "\n",
    "# This kind of configuration is used because pipeline is also created in kedro framework \n",
    "# Kedro framework help create reproducible, maintainable and modular data-science code :)\n",
    "# Accessing the variables from the YAML file\n",
    "variables = config['variables']\n"
   ]
  },
  {
   "cell_type": "code",
   "execution_count": 5,
   "id": "d70a86d6",
   "metadata": {
    "execution": {
     "iopub.execute_input": "2024-01-10T13:35:34.865741Z",
     "iopub.status.busy": "2024-01-10T13:35:34.865235Z",
     "iopub.status.idle": "2024-01-10T13:35:34.871486Z",
     "shell.execute_reply": "2024-01-10T13:35:34.870406Z"
    },
    "papermill": {
     "duration": 0.017222,
     "end_time": "2024-01-10T13:35:34.873422",
     "exception": false,
     "start_time": "2024-01-10T13:35:34.856200",
     "status": "completed"
    },
    "tags": []
   },
   "outputs": [
    {
     "data": {
      "text/plain": [
       "['latnum',\n",
       " 'longnum',\n",
       " 'year',\n",
       " 'country',\n",
       " 'URBAN_RURA',\n",
       " 'alt',\n",
       " 'chrps',\n",
       " 'deathcount',\n",
       " 'lst',\n",
       " 'numevents',\n",
       " 'pasture',\n",
       " 'sif',\n",
       " 'slope',\n",
       " 'tree',\n",
       " 'tt00_500k',\n",
       " 'stunted',\n",
       " 'wasted',\n",
       " 'healthy',\n",
       " 'poorest',\n",
       " 'underweight_bmi']"
      ]
     },
     "execution_count": 5,
     "metadata": {},
     "output_type": "execute_result"
    }
   ],
   "source": [
    "variables"
   ]
  },
  {
   "cell_type": "code",
   "execution_count": 6,
   "id": "91491540",
   "metadata": {
    "execution": {
     "iopub.execute_input": "2024-01-10T13:35:34.891093Z",
     "iopub.status.busy": "2024-01-10T13:35:34.890747Z",
     "iopub.status.idle": "2024-01-10T13:35:34.897041Z",
     "shell.execute_reply": "2024-01-10T13:35:34.896436Z"
    },
    "papermill": {
     "duration": 0.01697,
     "end_time": "2024-01-10T13:35:34.898685",
     "exception": false,
     "start_time": "2024-01-10T13:35:34.881715",
     "status": "completed"
    },
    "tags": []
   },
   "outputs": [],
   "source": [
    "def drop_rows_with_missing_values(data: pd.DataFrame, max_missing: int = None) -> pd.DataFrame:\n",
    "    \"\"\"\n",
    "    Drop rows from a DataFrame based on the specified maximum number of allowed missing values.\n",
    "\n",
    "    Parameters:\n",
    "    - data (pd.DataFrame): The DataFrame from which rows are to be removed.\n",
    "    - max_missing (int, optional): The maximum number of missing values allowed in a row. \n",
    "                                   Rows with more missing values than this number will be dropped. \n",
    "                                   If not specified or None, any row with at least one missing value will be dropped.\n",
    "\n",
    "    Returns:\n",
    "    - pd.DataFrame: A new DataFrame with rows dropped based on the specified criteria.\n",
    "\n",
    "    Raises:\n",
    "    - ValueError: If the max_missing is negative.\n",
    "    - TypeError: If the provided dataframe is not a pandas DataFrame.\n",
    "    \"\"\"\n",
    "    if max_missing is not None and (not isinstance(max_missing, int) or max_missing < 0):\n",
    "        raise ValueError(\"max_missing must be a non-negative integer or None\")\n",
    "    if not isinstance(data, pd.DataFrame):\n",
    "        raise TypeError(\"The first argument must be a pandas DataFrame\")\n",
    "\n",
    "    if max_missing is None:\n",
    "        return data.dropna(axis=0)\n",
    "    else:\n",
    "        min_non_missing = data.shape[1] - max_missing\n",
    "        return data.dropna(thresh=min_non_missing, axis=0)\n",
    "\n",
    "# Example usage:\n",
    "# To drop rows with any missing value\n",
    "# df = drop_rows_with_missing_values(df)\n",
    "\n",
    "# To drop rows with more than 2 missing values\n",
    "# df = drop_rows_with_missing_values(df, 2)\n"
   ]
  },
  {
   "cell_type": "code",
   "execution_count": 7,
   "id": "099a7342",
   "metadata": {
    "execution": {
     "iopub.execute_input": "2024-01-10T13:35:34.918292Z",
     "iopub.status.busy": "2024-01-10T13:35:34.917928Z",
     "iopub.status.idle": "2024-01-10T13:35:34.922995Z",
     "shell.execute_reply": "2024-01-10T13:35:34.921865Z"
    },
    "papermill": {
     "duration": 0.01696,
     "end_time": "2024-01-10T13:35:34.924825",
     "exception": false,
     "start_time": "2024-01-10T13:35:34.907865",
     "status": "completed"
    },
    "tags": []
   },
   "outputs": [],
   "source": [
    "def preprocess_raw_data(raw_data: pd.DataFrame, variables: Dict) -> pd.DataFrame:\n",
    "    \"\"\"\n",
    "    Preprocesses the raw data from a research paper.\n",
    "\n",
    "    This function performs necessary preprocessing steps on the dataset obtained from a research paper. \n",
    "    The specific preprocessing tasks can include cleaning the data, handling missing values, and converting \n",
    "    data types, but should be defined based on the actual requirements of the dataset.\n",
    "\n",
    "    Args:\n",
    "        raw_data: DataFrame containing the raw data from the research paper.\n",
    "\n",
    "    Returns:\n",
    "        pd.DataFrame: Preprocessed data, reflecting the necessary preprocessing steps applied to the raw data.\n",
    "    \"\"\"\n",
    "    df = raw_data[variables]\n",
    "    preprocessed_df = drop_rows_with_missing_values(df)\n",
    "\n",
    "    return preprocessed_df\n",
    "\n",
    "# Example of usage\n",
    "# preprocessed_data = preprocess_raw_data(df)\n"
   ]
  },
  {
   "cell_type": "code",
   "execution_count": 8,
   "id": "07cf0498",
   "metadata": {
    "execution": {
     "iopub.execute_input": "2024-01-10T13:35:34.943170Z",
     "iopub.status.busy": "2024-01-10T13:35:34.942865Z",
     "iopub.status.idle": "2024-01-10T13:35:34.962422Z",
     "shell.execute_reply": "2024-01-10T13:35:34.961438Z"
    },
    "papermill": {
     "duration": 0.03086,
     "end_time": "2024-01-10T13:35:34.964349",
     "exception": false,
     "start_time": "2024-01-10T13:35:34.933489",
     "status": "completed"
    },
    "tags": []
   },
   "outputs": [],
   "source": [
    "preprocessed_data = preprocess_raw_data(df, variables)"
   ]
  },
  {
   "cell_type": "code",
   "execution_count": 9,
   "id": "a6dedb53",
   "metadata": {
    "execution": {
     "iopub.execute_input": "2024-01-10T13:35:34.982323Z",
     "iopub.status.busy": "2024-01-10T13:35:34.982002Z",
     "iopub.status.idle": "2024-01-10T13:35:35.011533Z",
     "shell.execute_reply": "2024-01-10T13:35:35.010602Z"
    },
    "papermill": {
     "duration": 0.040705,
     "end_time": "2024-01-10T13:35:35.013674",
     "exception": false,
     "start_time": "2024-01-10T13:35:34.972969",
     "status": "completed"
    },
    "tags": []
   },
   "outputs": [
    {
     "data": {
      "text/html": [
       "<div>\n",
       "<style scoped>\n",
       "    .dataframe tbody tr th:only-of-type {\n",
       "        vertical-align: middle;\n",
       "    }\n",
       "\n",
       "    .dataframe tbody tr th {\n",
       "        vertical-align: top;\n",
       "    }\n",
       "\n",
       "    .dataframe thead th {\n",
       "        text-align: right;\n",
       "    }\n",
       "</style>\n",
       "<table border=\"1\" class=\"dataframe\">\n",
       "  <thead>\n",
       "    <tr style=\"text-align: right;\">\n",
       "      <th></th>\n",
       "      <th>latnum</th>\n",
       "      <th>longnum</th>\n",
       "      <th>year</th>\n",
       "      <th>country</th>\n",
       "      <th>URBAN_RURA</th>\n",
       "      <th>alt</th>\n",
       "      <th>chrps</th>\n",
       "      <th>deathcount</th>\n",
       "      <th>lst</th>\n",
       "      <th>numevents</th>\n",
       "      <th>pasture</th>\n",
       "      <th>sif</th>\n",
       "      <th>slope</th>\n",
       "      <th>tree</th>\n",
       "      <th>tt00_500k</th>\n",
       "      <th>stunted</th>\n",
       "      <th>wasted</th>\n",
       "      <th>healthy</th>\n",
       "      <th>poorest</th>\n",
       "      <th>underweight_bmi</th>\n",
       "    </tr>\n",
       "  </thead>\n",
       "  <tbody>\n",
       "    <tr>\n",
       "      <th>0</th>\n",
       "      <td>22.981516</td>\n",
       "      <td>90.155785</td>\n",
       "      <td>2004</td>\n",
       "      <td>Bangladesh</td>\n",
       "      <td>1</td>\n",
       "      <td>5.60252</td>\n",
       "      <td>0.437479</td>\n",
       "      <td>0</td>\n",
       "      <td>-1.065822</td>\n",
       "      <td>14</td>\n",
       "      <td>0.048795</td>\n",
       "      <td>-0.745444</td>\n",
       "      <td>0.021781</td>\n",
       "      <td>16.3438</td>\n",
       "      <td>365.67800</td>\n",
       "      <td>0.294118</td>\n",
       "      <td>0.058824</td>\n",
       "      <td>0.941176</td>\n",
       "      <td>0.071429</td>\n",
       "      <td>0.272727</td>\n",
       "    </tr>\n",
       "    <tr>\n",
       "      <th>1</th>\n",
       "      <td>22.444431</td>\n",
       "      <td>90.329185</td>\n",
       "      <td>2004</td>\n",
       "      <td>Bangladesh</td>\n",
       "      <td>1</td>\n",
       "      <td>4.67774</td>\n",
       "      <td>0.447809</td>\n",
       "      <td>0</td>\n",
       "      <td>-0.963057</td>\n",
       "      <td>14</td>\n",
       "      <td>0.042821</td>\n",
       "      <td>-0.840625</td>\n",
       "      <td>0.007349</td>\n",
       "      <td>0.0000</td>\n",
       "      <td>397.88600</td>\n",
       "      <td>0.444444</td>\n",
       "      <td>0.000000</td>\n",
       "      <td>1.000000</td>\n",
       "      <td>0.062500</td>\n",
       "      <td>0.400000</td>\n",
       "    </tr>\n",
       "    <tr>\n",
       "      <th>2</th>\n",
       "      <td>22.487263</td>\n",
       "      <td>90.206123</td>\n",
       "      <td>2004</td>\n",
       "      <td>Bangladesh</td>\n",
       "      <td>1</td>\n",
       "      <td>5.14527</td>\n",
       "      <td>0.453208</td>\n",
       "      <td>0</td>\n",
       "      <td>-0.963257</td>\n",
       "      <td>14</td>\n",
       "      <td>0.030075</td>\n",
       "      <td>-0.841667</td>\n",
       "      <td>0.005347</td>\n",
       "      <td>0.0000</td>\n",
       "      <td>344.36600</td>\n",
       "      <td>0.600000</td>\n",
       "      <td>0.050000</td>\n",
       "      <td>0.950000</td>\n",
       "      <td>0.000000</td>\n",
       "      <td>0.354839</td>\n",
       "    </tr>\n",
       "    <tr>\n",
       "      <th>3</th>\n",
       "      <td>23.016359</td>\n",
       "      <td>90.192879</td>\n",
       "      <td>2004</td>\n",
       "      <td>Bangladesh</td>\n",
       "      <td>1</td>\n",
       "      <td>6.17460</td>\n",
       "      <td>0.433324</td>\n",
       "      <td>0</td>\n",
       "      <td>-1.074995</td>\n",
       "      <td>14</td>\n",
       "      <td>0.052236</td>\n",
       "      <td>-0.744531</td>\n",
       "      <td>0.027679</td>\n",
       "      <td>16.0333</td>\n",
       "      <td>369.38500</td>\n",
       "      <td>0.500000</td>\n",
       "      <td>0.062500</td>\n",
       "      <td>0.937500</td>\n",
       "      <td>0.062500</td>\n",
       "      <td>0.323529</td>\n",
       "    </tr>\n",
       "    <tr>\n",
       "      <th>4</th>\n",
       "      <td>22.952404</td>\n",
       "      <td>90.454414</td>\n",
       "      <td>2004</td>\n",
       "      <td>Bangladesh</td>\n",
       "      <td>1</td>\n",
       "      <td>5.39076</td>\n",
       "      <td>0.406196</td>\n",
       "      <td>0</td>\n",
       "      <td>-1.065344</td>\n",
       "      <td>14</td>\n",
       "      <td>0.041699</td>\n",
       "      <td>-0.748497</td>\n",
       "      <td>0.025029</td>\n",
       "      <td>18.7647</td>\n",
       "      <td>273.92400</td>\n",
       "      <td>0.555556</td>\n",
       "      <td>0.000000</td>\n",
       "      <td>1.000000</td>\n",
       "      <td>0.111111</td>\n",
       "      <td>0.277778</td>\n",
       "    </tr>\n",
       "    <tr>\n",
       "      <th>...</th>\n",
       "      <td>...</td>\n",
       "      <td>...</td>\n",
       "      <td>...</td>\n",
       "      <td>...</td>\n",
       "      <td>...</td>\n",
       "      <td>...</td>\n",
       "      <td>...</td>\n",
       "      <td>...</td>\n",
       "      <td>...</td>\n",
       "      <td>...</td>\n",
       "      <td>...</td>\n",
       "      <td>...</td>\n",
       "      <td>...</td>\n",
       "      <td>...</td>\n",
       "      <td>...</td>\n",
       "      <td>...</td>\n",
       "      <td>...</td>\n",
       "      <td>...</td>\n",
       "      <td>...</td>\n",
       "      <td>...</td>\n",
       "    </tr>\n",
       "    <tr>\n",
       "      <th>14333</th>\n",
       "      <td>7.368560</td>\n",
       "      <td>3.937503</td>\n",
       "      <td>2013</td>\n",
       "      <td>Nigeria</td>\n",
       "      <td>0</td>\n",
       "      <td>212.91400</td>\n",
       "      <td>0.622106</td>\n",
       "      <td>382</td>\n",
       "      <td>-0.786959</td>\n",
       "      <td>345</td>\n",
       "      <td>0.004750</td>\n",
       "      <td>-0.413014</td>\n",
       "      <td>0.508662</td>\n",
       "      <td>0.0000</td>\n",
       "      <td>6.60494</td>\n",
       "      <td>0.250000</td>\n",
       "      <td>0.250000</td>\n",
       "      <td>0.750000</td>\n",
       "      <td>0.000000</td>\n",
       "      <td>0.212121</td>\n",
       "    </tr>\n",
       "    <tr>\n",
       "      <th>14334</th>\n",
       "      <td>8.570109</td>\n",
       "      <td>3.547449</td>\n",
       "      <td>2013</td>\n",
       "      <td>Nigeria</td>\n",
       "      <td>1</td>\n",
       "      <td>392.34100</td>\n",
       "      <td>1.081900</td>\n",
       "      <td>311</td>\n",
       "      <td>-0.804163</td>\n",
       "      <td>296</td>\n",
       "      <td>0.001639</td>\n",
       "      <td>-0.269682</td>\n",
       "      <td>0.396409</td>\n",
       "      <td>16.6122</td>\n",
       "      <td>271.40400</td>\n",
       "      <td>0.431373</td>\n",
       "      <td>0.176471</td>\n",
       "      <td>0.784314</td>\n",
       "      <td>0.969697</td>\n",
       "      <td>0.347222</td>\n",
       "    </tr>\n",
       "    <tr>\n",
       "      <th>14335</th>\n",
       "      <td>8.765458</td>\n",
       "      <td>3.603125</td>\n",
       "      <td>2013</td>\n",
       "      <td>Nigeria</td>\n",
       "      <td>1</td>\n",
       "      <td>394.41600</td>\n",
       "      <td>1.080867</td>\n",
       "      <td>311</td>\n",
       "      <td>-0.780643</td>\n",
       "      <td>296</td>\n",
       "      <td>0.059900</td>\n",
       "      <td>-0.248022</td>\n",
       "      <td>0.527184</td>\n",
       "      <td>15.6757</td>\n",
       "      <td>227.03800</td>\n",
       "      <td>0.217391</td>\n",
       "      <td>0.000000</td>\n",
       "      <td>0.956522</td>\n",
       "      <td>0.000000</td>\n",
       "      <td>0.097561</td>\n",
       "    </tr>\n",
       "    <tr>\n",
       "      <th>14336</th>\n",
       "      <td>8.660406</td>\n",
       "      <td>3.522780</td>\n",
       "      <td>2013</td>\n",
       "      <td>Nigeria</td>\n",
       "      <td>1</td>\n",
       "      <td>389.46400</td>\n",
       "      <td>1.084190</td>\n",
       "      <td>311</td>\n",
       "      <td>-0.781408</td>\n",
       "      <td>296</td>\n",
       "      <td>0.004605</td>\n",
       "      <td>-0.257015</td>\n",
       "      <td>0.390382</td>\n",
       "      <td>21.0244</td>\n",
       "      <td>219.00000</td>\n",
       "      <td>0.195122</td>\n",
       "      <td>0.073171</td>\n",
       "      <td>0.926829</td>\n",
       "      <td>0.379310</td>\n",
       "      <td>0.026316</td>\n",
       "    </tr>\n",
       "    <tr>\n",
       "      <th>14337</th>\n",
       "      <td>8.687992</td>\n",
       "      <td>3.412814</td>\n",
       "      <td>2013</td>\n",
       "      <td>Nigeria</td>\n",
       "      <td>0</td>\n",
       "      <td>435.48100</td>\n",
       "      <td>1.094852</td>\n",
       "      <td>311</td>\n",
       "      <td>-0.899868</td>\n",
       "      <td>296</td>\n",
       "      <td>0.114607</td>\n",
       "      <td>-0.223676</td>\n",
       "      <td>0.185043</td>\n",
       "      <td>32.9063</td>\n",
       "      <td>175.32100</td>\n",
       "      <td>0.433333</td>\n",
       "      <td>0.066667</td>\n",
       "      <td>0.933333</td>\n",
       "      <td>0.000000</td>\n",
       "      <td>0.048780</td>\n",
       "    </tr>\n",
       "  </tbody>\n",
       "</table>\n",
       "<p>13548 rows × 20 columns</p>\n",
       "</div>"
      ],
      "text/plain": [
       "          latnum    longnum  year     country  URBAN_RURA        alt  \\\n",
       "0      22.981516  90.155785  2004  Bangladesh           1    5.60252   \n",
       "1      22.444431  90.329185  2004  Bangladesh           1    4.67774   \n",
       "2      22.487263  90.206123  2004  Bangladesh           1    5.14527   \n",
       "3      23.016359  90.192879  2004  Bangladesh           1    6.17460   \n",
       "4      22.952404  90.454414  2004  Bangladesh           1    5.39076   \n",
       "...          ...        ...   ...         ...         ...        ...   \n",
       "14333   7.368560   3.937503  2013     Nigeria           0  212.91400   \n",
       "14334   8.570109   3.547449  2013     Nigeria           1  392.34100   \n",
       "14335   8.765458   3.603125  2013     Nigeria           1  394.41600   \n",
       "14336   8.660406   3.522780  2013     Nigeria           1  389.46400   \n",
       "14337   8.687992   3.412814  2013     Nigeria           0  435.48100   \n",
       "\n",
       "          chrps  deathcount       lst  numevents   pasture       sif  \\\n",
       "0      0.437479           0 -1.065822         14  0.048795 -0.745444   \n",
       "1      0.447809           0 -0.963057         14  0.042821 -0.840625   \n",
       "2      0.453208           0 -0.963257         14  0.030075 -0.841667   \n",
       "3      0.433324           0 -1.074995         14  0.052236 -0.744531   \n",
       "4      0.406196           0 -1.065344         14  0.041699 -0.748497   \n",
       "...         ...         ...       ...        ...       ...       ...   \n",
       "14333  0.622106         382 -0.786959        345  0.004750 -0.413014   \n",
       "14334  1.081900         311 -0.804163        296  0.001639 -0.269682   \n",
       "14335  1.080867         311 -0.780643        296  0.059900 -0.248022   \n",
       "14336  1.084190         311 -0.781408        296  0.004605 -0.257015   \n",
       "14337  1.094852         311 -0.899868        296  0.114607 -0.223676   \n",
       "\n",
       "          slope     tree  tt00_500k   stunted    wasted   healthy   poorest  \\\n",
       "0      0.021781  16.3438  365.67800  0.294118  0.058824  0.941176  0.071429   \n",
       "1      0.007349   0.0000  397.88600  0.444444  0.000000  1.000000  0.062500   \n",
       "2      0.005347   0.0000  344.36600  0.600000  0.050000  0.950000  0.000000   \n",
       "3      0.027679  16.0333  369.38500  0.500000  0.062500  0.937500  0.062500   \n",
       "4      0.025029  18.7647  273.92400  0.555556  0.000000  1.000000  0.111111   \n",
       "...         ...      ...        ...       ...       ...       ...       ...   \n",
       "14333  0.508662   0.0000    6.60494  0.250000  0.250000  0.750000  0.000000   \n",
       "14334  0.396409  16.6122  271.40400  0.431373  0.176471  0.784314  0.969697   \n",
       "14335  0.527184  15.6757  227.03800  0.217391  0.000000  0.956522  0.000000   \n",
       "14336  0.390382  21.0244  219.00000  0.195122  0.073171  0.926829  0.379310   \n",
       "14337  0.185043  32.9063  175.32100  0.433333  0.066667  0.933333  0.000000   \n",
       "\n",
       "       underweight_bmi  \n",
       "0             0.272727  \n",
       "1             0.400000  \n",
       "2             0.354839  \n",
       "3             0.323529  \n",
       "4             0.277778  \n",
       "...                ...  \n",
       "14333         0.212121  \n",
       "14334         0.347222  \n",
       "14335         0.097561  \n",
       "14336         0.026316  \n",
       "14337         0.048780  \n",
       "\n",
       "[13548 rows x 20 columns]"
      ]
     },
     "execution_count": 9,
     "metadata": {},
     "output_type": "execute_result"
    }
   ],
   "source": [
    "preprocessed_data"
   ]
  },
  {
   "cell_type": "code",
   "execution_count": 10,
   "id": "39a9c602",
   "metadata": {
    "execution": {
     "iopub.execute_input": "2024-01-10T13:35:35.033103Z",
     "iopub.status.busy": "2024-01-10T13:35:35.032750Z",
     "iopub.status.idle": "2024-01-10T13:35:35.049075Z",
     "shell.execute_reply": "2024-01-10T13:35:35.048168Z"
    },
    "papermill": {
     "duration": 0.028715,
     "end_time": "2024-01-10T13:35:35.051464",
     "exception": false,
     "start_time": "2024-01-10T13:35:35.022749",
     "status": "completed"
    },
    "tags": []
   },
   "outputs": [],
   "source": [
    "# Load YAML configuration file for parameters_data_science\n",
    "# This file contain configuration for modeling with params like n_folds, random_state etc. \n",
    "# Also we define what are our features and targets \n",
    "with open('/kaggle/input/parametrs-for-predicting-poverty/parameters_data_science.yml', 'r') as file:\n",
    "    config = yaml.safe_load(file)\n",
    "\n",
    "# Choose the model options for our five target variables\n",
    "model_options_stunted = config[\"model_options_stunted\"]\n",
    "model_options_wasted = config[\"model_options_wasted\"]\n",
    "model_options_healthy = config[\"model_options_healthy\"]\n",
    "model_options_poorest = config[\"model_options_poorest\"]\n",
    "model_options_underweight_bmi = config[\"model_options_underweight_bmi\"]"
   ]
  },
  {
   "cell_type": "code",
   "execution_count": 11,
   "id": "9463aff9",
   "metadata": {
    "execution": {
     "iopub.execute_input": "2024-01-10T13:35:35.071783Z",
     "iopub.status.busy": "2024-01-10T13:35:35.071436Z",
     "iopub.status.idle": "2024-01-10T13:35:35.078633Z",
     "shell.execute_reply": "2024-01-10T13:35:35.077548Z"
    },
    "papermill": {
     "duration": 0.020272,
     "end_time": "2024-01-10T13:35:35.080816",
     "exception": false,
     "start_time": "2024-01-10T13:35:35.060544",
     "status": "completed"
    },
    "tags": []
   },
   "outputs": [
    {
     "data": {
      "text/plain": [
       "{'n_folds': 5,\n",
       " 'random_state': 42,\n",
       " 'n_trees': 2000,\n",
       " 'max_depth': 4,\n",
       " 'max_features': 0.333,\n",
       " 'features': ['latnum',\n",
       "  'longnum',\n",
       "  'URBAN_RURA',\n",
       "  'alt',\n",
       "  'chrps',\n",
       "  'deathcount',\n",
       "  'lst',\n",
       "  'numevents',\n",
       "  'pasture',\n",
       "  'sif',\n",
       "  'slope',\n",
       "  'tree',\n",
       "  'tt00_500k'],\n",
       " 'target': 'stunted'}"
      ]
     },
     "execution_count": 11,
     "metadata": {},
     "output_type": "execute_result"
    }
   ],
   "source": [
    "model_options_stunted"
   ]
  },
  {
   "cell_type": "markdown",
   "id": "653149ac",
   "metadata": {
    "papermill": {
     "duration": 0.008702,
     "end_time": "2024-01-10T13:35:35.098641",
     "exception": false,
     "start_time": "2024-01-10T13:35:35.089939",
     "status": "completed"
    },
    "tags": []
   },
   "source": [
    "## **Modeling for target variable 'stunted'** \n",
    "### Prevalence of stunted (HAZ < -2) children under five (0-59 months)\n",
    "#### cluster prevalence weighted at hh level"
   ]
  },
  {
   "cell_type": "code",
   "execution_count": 12,
   "id": "4ac06a3d",
   "metadata": {
    "execution": {
     "iopub.execute_input": "2024-01-10T13:35:35.117838Z",
     "iopub.status.busy": "2024-01-10T13:35:35.117514Z",
     "iopub.status.idle": "2024-01-10T13:35:35.124444Z",
     "shell.execute_reply": "2024-01-10T13:35:35.123172Z"
    },
    "papermill": {
     "duration": 0.019164,
     "end_time": "2024-01-10T13:35:35.126429",
     "exception": false,
     "start_time": "2024-01-10T13:35:35.107265",
     "status": "completed"
    },
    "tags": []
   },
   "outputs": [],
   "source": [
    "def generate_cv_splits(data: pd.DataFrame, model_options: Dict) -> List[Tuple]:\n",
    "    \"\"\"\n",
    "    Generates cross-validation train-test splits.\n",
    "\n",
    "    Args:\n",
    "        data: DataFrame containing the features and target.\n",
    "        model_options: Dictionary containing 'features', 'target', 'n_folds', and 'random_state'.\n",
    "\n",
    "    Returns:\n",
    "        A list of tuples, each containing X_train, X_test, y_train, y_test for each fold.\n",
    "    \"\"\"\n",
    "    features = model_options[\"features\"]\n",
    "    target = model_options[\"target\"]\n",
    "    n_folds = model_options[\"n_folds\"]\n",
    "    random_state = model_options[\"random_state\"]\n",
    "\n",
    "    X = data[features]\n",
    "    y = data[[target]]  # Keep y as a DataFrame\n",
    "\n",
    "    kf = KFold(n_splits=n_folds, shuffle=True, random_state=random_state)\n",
    "\n",
    "    cv_data_splits = []\n",
    "    for train_index, test_index in kf.split(X):\n",
    "        X_train, X_test = X.iloc[train_index], X.iloc[test_index]\n",
    "        y_train, y_test = y.iloc[train_index], y.iloc[test_index]\n",
    "        cv_data_splits.append((X_train, X_test, y_train, y_test))\n",
    "\n",
    "    return cv_data_splits\n"
   ]
  },
  {
   "cell_type": "code",
   "execution_count": 13,
   "id": "edc84e5b",
   "metadata": {
    "execution": {
     "iopub.execute_input": "2024-01-10T13:35:35.199841Z",
     "iopub.status.busy": "2024-01-10T13:35:35.199529Z",
     "iopub.status.idle": "2024-01-10T13:35:35.212573Z",
     "shell.execute_reply": "2024-01-10T13:35:35.211650Z"
    },
    "papermill": {
     "duration": 0.025034,
     "end_time": "2024-01-10T13:35:35.214240",
     "exception": false,
     "start_time": "2024-01-10T13:35:35.189206",
     "status": "completed"
    },
    "tags": []
   },
   "outputs": [],
   "source": [
    "cv_data_splits_stunted = generate_cv_splits(preprocessed_data, model_options_stunted)"
   ]
  },
  {
   "cell_type": "code",
   "execution_count": 14,
   "id": "79acb0c8",
   "metadata": {
    "execution": {
     "iopub.execute_input": "2024-01-10T13:35:35.234869Z",
     "iopub.status.busy": "2024-01-10T13:35:35.234068Z",
     "iopub.status.idle": "2024-01-10T13:35:35.244870Z",
     "shell.execute_reply": "2024-01-10T13:35:35.243757Z"
    },
    "papermill": {
     "duration": 0.023816,
     "end_time": "2024-01-10T13:35:35.247161",
     "exception": false,
     "start_time": "2024-01-10T13:35:35.223345",
     "status": "completed"
    },
    "tags": []
   },
   "outputs": [],
   "source": [
    "def train_independent_rf(X_train: pd.DataFrame, y_train: pd.DataFrame, model_options: Dict) -> Dict[str, RF]:\n",
    "    \"\"\"\n",
    "    Trains independent Random Forest models for each outcome.\n",
    "\n",
    "    Args:\n",
    "        X_train: Training data of independent features.\n",
    "        y_train: Training data for the target variables.\n",
    "        model_options: Dictionary containing 'n_trees', 'max_depth', and 'max_features'.\n",
    "\n",
    "    Returns:\n",
    "        Dictionary of trained Random Forest models for each outcome.\n",
    "    \"\"\"\n",
    "    n_trees = model_options[\"n_trees\"]\n",
    "    max_depth = model_options[\"max_depth\"]\n",
    "    max_features = model_options[\"max_features\"]\n",
    "\n",
    "    models = {}\n",
    "    for outcome in y_train.columns:\n",
    "        model = RF(n_estimators=n_trees, max_depth=max_depth, max_features=max_features)\n",
    "        model.fit(X_train, y_train[outcome])\n",
    "        models[outcome] = model\n",
    "    return models\n",
    "\n",
    "def train_models_on_cv_folds(cv_data_splits: List[Tuple[pd.DataFrame, pd.DataFrame, pd.Series, pd.Series]], model_options: Dict) -> Dict[str, Dict[str, RF]]:\n",
    "    \"\"\"\n",
    "    Trains independent Random Forest models for each outcome on each fold of cross-validation splits.\n",
    "\n",
    "    Args:\n",
    "        cv_data_splits: List of tuples containing (X_train, X_test, y_train, y_test) for each fold.\n",
    "        model_options: Dictionary containing 'n_trees', 'max_depth', and 'max_features'.\n",
    "\n",
    "    Returns:\n",
    "        Dictionary of dictionaries containing trained Random Forest models for each outcome, for each fold.\n",
    "    \"\"\"\n",
    "    num_folds = len(cv_data_splits)\n",
    "    print(f\"Starting training of independent Random Forest models for {num_folds} folds...\")\n",
    "\n",
    "    target_names = \", \".join(cv_data_splits[0][2].columns)\n",
    "    print(f\"Training models for target: {target_names}\")\n",
    "    \n",
    "    all_fold_models = {}\n",
    "    for fold_index, (X_train, _, y_train, _) in enumerate(cv_data_splits):\n",
    "        fold_key = f'fold_{fold_index + 1}'\n",
    "        print(f\"Training model for {fold_key}\")\n",
    "\n",
    "        fold_models = train_independent_rf(X_train, y_train, model_options)\n",
    "        all_fold_models[fold_key] = fold_models\n",
    "        print(f\"Completed training model for {fold_key}\")\n",
    "    \n",
    "    print(\"ok im done :)\")\n",
    "    return all_fold_models\n"
   ]
  },
  {
   "cell_type": "code",
   "execution_count": 15,
   "id": "c0803e63",
   "metadata": {
    "execution": {
     "iopub.execute_input": "2024-01-10T13:35:35.268558Z",
     "iopub.status.busy": "2024-01-10T13:35:35.268186Z",
     "iopub.status.idle": "2024-01-10T13:37:27.517442Z",
     "shell.execute_reply": "2024-01-10T13:37:27.516667Z"
    },
    "papermill": {
     "duration": 112.262866,
     "end_time": "2024-01-10T13:37:27.519869",
     "exception": false,
     "start_time": "2024-01-10T13:35:35.257003",
     "status": "completed"
    },
    "tags": []
   },
   "outputs": [
    {
     "name": "stdout",
     "output_type": "stream",
     "text": [
      "Starting training of independent Random Forest models for 5 folds...\n",
      "Training models for target: stunted\n",
      "Training model for fold_1\n",
      "Completed training model for fold_1\n",
      "Training model for fold_2\n",
      "Completed training model for fold_2\n",
      "Training model for fold_3\n",
      "Completed training model for fold_3\n",
      "Training model for fold_4\n",
      "Completed training model for fold_4\n",
      "Training model for fold_5\n",
      "Completed training model for fold_5\n",
      "ok im done :)\n"
     ]
    }
   ],
   "source": [
    "all_fold_models_stunted = train_models_on_cv_folds(cv_data_splits_stunted, model_options_stunted)"
   ]
  },
  {
   "cell_type": "code",
   "execution_count": 16,
   "id": "44437e1f",
   "metadata": {
    "execution": {
     "iopub.execute_input": "2024-01-10T13:37:27.540906Z",
     "iopub.status.busy": "2024-01-10T13:37:27.540531Z",
     "iopub.status.idle": "2024-01-10T13:37:27.555243Z",
     "shell.execute_reply": "2024-01-10T13:37:27.554206Z"
    },
    "papermill": {
     "duration": 0.027389,
     "end_time": "2024-01-10T13:37:27.557192",
     "exception": false,
     "start_time": "2024-01-10T13:37:27.529803",
     "status": "completed"
    },
    "tags": []
   },
   "outputs": [
    {
     "data": {
      "text/plain": [
       "{'fold_1': {'stunted': RandomForestRegressor(max_depth=4, max_features=0.333, n_estimators=2000)},\n",
       " 'fold_2': {'stunted': RandomForestRegressor(max_depth=4, max_features=0.333, n_estimators=2000)},\n",
       " 'fold_3': {'stunted': RandomForestRegressor(max_depth=4, max_features=0.333, n_estimators=2000)},\n",
       " 'fold_4': {'stunted': RandomForestRegressor(max_depth=4, max_features=0.333, n_estimators=2000)},\n",
       " 'fold_5': {'stunted': RandomForestRegressor(max_depth=4, max_features=0.333, n_estimators=2000)}}"
      ]
     },
     "execution_count": 16,
     "metadata": {},
     "output_type": "execute_result"
    }
   ],
   "source": [
    "all_fold_models_stunted"
   ]
  },
  {
   "cell_type": "code",
   "execution_count": 17,
   "id": "08074b57",
   "metadata": {
    "execution": {
     "iopub.execute_input": "2024-01-10T13:37:27.578737Z",
     "iopub.status.busy": "2024-01-10T13:37:27.577990Z",
     "iopub.status.idle": "2024-01-10T13:37:27.586572Z",
     "shell.execute_reply": "2024-01-10T13:37:27.585544Z"
    },
    "papermill": {
     "duration": 0.021832,
     "end_time": "2024-01-10T13:37:27.588857",
     "exception": false,
     "start_time": "2024-01-10T13:37:27.567025",
     "status": "completed"
    },
    "tags": []
   },
   "outputs": [],
   "source": [
    "def evaluate_model_performance(cv_data_splits: List[Tuple[pd.DataFrame, pd.DataFrame, pd.Series, pd.Series]], \n",
    "                               trained_models: Dict[str, Dict[str, RF]]) -> Dict[str, Dict[str, float]]:\n",
    "    \"\"\"\n",
    "    Evaluates the performance of trained models on each fold of cross-validation splits.\n",
    "\n",
    "    Args:\n",
    "        cv_data_splits: List of tuples containing (X_train, X_test, y_train, y_test) for each fold.\n",
    "        trained_models: Dictionary of dictionaries containing trained models for each outcome, for each fold.\n",
    "\n",
    "    Returns:\n",
    "        A dictionary with evaluation metrics (R-squared and MSE) for each model on each fold.\n",
    "    \"\"\"\n",
    "    performance_metrics = {}\n",
    "\n",
    "    for fold_index, (_, X_test, _, y_test) in enumerate(cv_data_splits):\n",
    "        fold_key = f'fold_{fold_index + 1}'\n",
    "        models = trained_models[fold_key]\n",
    "        fold_metrics = {}\n",
    "\n",
    "        # for outcome, model in models.items():\n",
    "        #     predictions = model.predict(X_test)\n",
    "        #     r2 = r2_score(y_test, predictions)\n",
    "        #     mse = mean_squared_error(y_test, predictions)\n",
    "        #     fold_metrics[outcome] = {'R2': r2, 'MSE': mse}\n",
    "\n",
    "        # performance_metrics[fold_key] = fold_metrics\n",
    "\n",
    "        for outcome, model in models.items():\n",
    "            predictions = model.predict(X_test)\n",
    "            r2 = r2_score(y_test[outcome], predictions)\n",
    "            mse = mean_squared_error(y_test[outcome], predictions)\n",
    "            \n",
    "            # Flatten the structure\n",
    "            performance_metrics[f'{fold_key}_{outcome}_R2'] = r2\n",
    "            performance_metrics[f'{fold_key}_{outcome}_MSE'] = mse\n",
    "\n",
    "    return performance_metrics"
   ]
  },
  {
   "cell_type": "code",
   "execution_count": 18,
   "id": "ea737b75",
   "metadata": {
    "execution": {
     "iopub.execute_input": "2024-01-10T13:37:27.611027Z",
     "iopub.status.busy": "2024-01-10T13:37:27.610358Z",
     "iopub.status.idle": "2024-01-10T13:37:28.513318Z",
     "shell.execute_reply": "2024-01-10T13:37:28.512387Z"
    },
    "papermill": {
     "duration": 0.916054,
     "end_time": "2024-01-10T13:37:28.515605",
     "exception": false,
     "start_time": "2024-01-10T13:37:27.599551",
     "status": "completed"
    },
    "tags": []
   },
   "outputs": [],
   "source": [
    "performance_metrics_stunted = evaluate_model_performance(cv_data_splits_stunted, all_fold_models_stunted)"
   ]
  },
  {
   "cell_type": "code",
   "execution_count": 19,
   "id": "158228e0",
   "metadata": {
    "execution": {
     "iopub.execute_input": "2024-01-10T13:37:28.536225Z",
     "iopub.status.busy": "2024-01-10T13:37:28.535914Z",
     "iopub.status.idle": "2024-01-10T13:37:28.541888Z",
     "shell.execute_reply": "2024-01-10T13:37:28.540765Z"
    },
    "papermill": {
     "duration": 0.018528,
     "end_time": "2024-01-10T13:37:28.543732",
     "exception": false,
     "start_time": "2024-01-10T13:37:28.525204",
     "status": "completed"
    },
    "tags": []
   },
   "outputs": [
    {
     "data": {
      "text/plain": [
       "{'fold_1_stunted_R2': 0.21187771935894162,\n",
       " 'fold_1_stunted_MSE': 0.03890300274016168,\n",
       " 'fold_2_stunted_R2': 0.1817678232682095,\n",
       " 'fold_2_stunted_MSE': 0.04159865809701701,\n",
       " 'fold_3_stunted_R2': 0.20149998035768335,\n",
       " 'fold_3_stunted_MSE': 0.04161872351936654,\n",
       " 'fold_4_stunted_R2': 0.190764402361008,\n",
       " 'fold_4_stunted_MSE': 0.04309506162799954,\n",
       " 'fold_5_stunted_R2': 0.18658033286817366,\n",
       " 'fold_5_stunted_MSE': 0.04105871722231164}"
      ]
     },
     "execution_count": 19,
     "metadata": {},
     "output_type": "execute_result"
    }
   ],
   "source": [
    "performance_metrics_stunted"
   ]
  },
  {
   "cell_type": "markdown",
   "id": "b06c33a8",
   "metadata": {
    "papermill": {
     "duration": 0.009459,
     "end_time": "2024-01-10T13:37:28.562800",
     "exception": false,
     "start_time": "2024-01-10T13:37:28.553341",
     "status": "completed"
    },
    "tags": []
   },
   "source": [
    "For the 'stunted' target variable (Prevalence of stunted children under five), the Random Forest models exhibit moderate performance across five folds. The R-squared values range from approximately 0.18 to 0.21, indicating limited explanatory power, while the consistent Mean Squared Error (MSE) values suggest somewhat accurate predictions but with room for improvement. Further model refinement through advanced techniques or additional informative variables is recommended.\n",
    "\n",
    "**The same kind of modeling we will perform now for the rest of the target variables**"
   ]
  },
  {
   "cell_type": "markdown",
   "id": "4559921c",
   "metadata": {
    "papermill": {
     "duration": 0.009288,
     "end_time": "2024-01-10T13:37:28.581839",
     "exception": false,
     "start_time": "2024-01-10T13:37:28.572551",
     "status": "completed"
    },
    "tags": []
   },
   "source": [
    "## **Modeling for target variable 'wasted'**\n",
    "### Prevalence of wasted (WHZ < -2) children under five (0-59 months)\n",
    "#### cluster prevalence weighted at hh level"
   ]
  },
  {
   "cell_type": "code",
   "execution_count": 20,
   "id": "cb2eab6f",
   "metadata": {
    "execution": {
     "iopub.execute_input": "2024-01-10T13:37:28.602494Z",
     "iopub.status.busy": "2024-01-10T13:37:28.602143Z",
     "iopub.status.idle": "2024-01-10T13:39:21.295786Z",
     "shell.execute_reply": "2024-01-10T13:39:21.294804Z"
    },
    "papermill": {
     "duration": 112.706532,
     "end_time": "2024-01-10T13:39:21.297944",
     "exception": false,
     "start_time": "2024-01-10T13:37:28.591412",
     "status": "completed"
    },
    "tags": []
   },
   "outputs": [
    {
     "name": "stdout",
     "output_type": "stream",
     "text": [
      "Starting training of independent Random Forest models for 5 folds...\n",
      "Training models for target: wasted\n",
      "Training model for fold_1\n",
      "Completed training model for fold_1\n",
      "Training model for fold_2\n",
      "Completed training model for fold_2\n",
      "Training model for fold_3\n",
      "Completed training model for fold_3\n",
      "Training model for fold_4\n",
      "Completed training model for fold_4\n",
      "Training model for fold_5\n",
      "Completed training model for fold_5\n",
      "ok im done :)\n"
     ]
    }
   ],
   "source": [
    "cv_data_splits_wasted = generate_cv_splits(preprocessed_data, model_options_wasted)\n",
    "\n",
    "all_fold_models_wasted = train_models_on_cv_folds(cv_data_splits_wasted, model_options_wasted)\n",
    "\n",
    "performance_metrics_wasted = evaluate_model_performance(cv_data_splits_wasted, all_fold_models_wasted)"
   ]
  },
  {
   "cell_type": "code",
   "execution_count": 21,
   "id": "ca14f554",
   "metadata": {
    "execution": {
     "iopub.execute_input": "2024-01-10T13:39:21.320481Z",
     "iopub.status.busy": "2024-01-10T13:39:21.320105Z",
     "iopub.status.idle": "2024-01-10T13:39:21.327754Z",
     "shell.execute_reply": "2024-01-10T13:39:21.326237Z"
    },
    "papermill": {
     "duration": 0.021286,
     "end_time": "2024-01-10T13:39:21.329790",
     "exception": false,
     "start_time": "2024-01-10T13:39:21.308504",
     "status": "completed"
    },
    "tags": []
   },
   "outputs": [
    {
     "data": {
      "text/plain": [
       "{'fold_1_wasted_R2': 0.21692345613265063,\n",
       " 'fold_1_wasted_MSE': 0.012312732843319555,\n",
       " 'fold_2_wasted_R2': 0.20337690643120798,\n",
       " 'fold_2_wasted_MSE': 0.01385699206390864,\n",
       " 'fold_3_wasted_R2': 0.18923092474948133,\n",
       " 'fold_3_wasted_MSE': 0.013769665040703273,\n",
       " 'fold_4_wasted_R2': 0.20308781176376367,\n",
       " 'fold_4_wasted_MSE': 0.013551942347336294,\n",
       " 'fold_5_wasted_R2': 0.18796557157880345,\n",
       " 'fold_5_wasted_MSE': 0.014671527981963046}"
      ]
     },
     "execution_count": 21,
     "metadata": {},
     "output_type": "execute_result"
    }
   ],
   "source": [
    "performance_metrics_wasted"
   ]
  },
  {
   "cell_type": "markdown",
   "id": "042f1088",
   "metadata": {
    "papermill": {
     "duration": 0.009868,
     "end_time": "2024-01-10T13:39:21.350808",
     "exception": false,
     "start_time": "2024-01-10T13:39:21.340940",
     "status": "completed"
    },
    "tags": []
   },
   "source": [
    "The 'wasted' target variable (Prevalence of wasted children under five) also demonstrates moderate performance, with R-squared values ranging from 0.18 to 0.22 and relatively consistent MSE values. This suggests that the model's predictions are reasonably accurate but can be enhanced further."
   ]
  },
  {
   "cell_type": "markdown",
   "id": "fcbb4b67",
   "metadata": {
    "papermill": {
     "duration": 0.0098,
     "end_time": "2024-01-10T13:39:21.370533",
     "exception": false,
     "start_time": "2024-01-10T13:39:21.360733",
     "status": "completed"
    },
    "tags": []
   },
   "source": [
    "## **Modeling for target variable 'healthy'**\n",
    "### Prevalence of healthy weight (WHZ ≤ 2 and ≥-2) among children under five (0-59 months)\n",
    "#### cluster prevalence weighted at hh level"
   ]
  },
  {
   "cell_type": "code",
   "execution_count": 22,
   "id": "a095eeb1",
   "metadata": {
    "execution": {
     "iopub.execute_input": "2024-01-10T13:39:21.392962Z",
     "iopub.status.busy": "2024-01-10T13:39:21.392584Z",
     "iopub.status.idle": "2024-01-10T13:41:14.134888Z",
     "shell.execute_reply": "2024-01-10T13:41:14.133538Z"
    },
    "papermill": {
     "duration": 112.756388,
     "end_time": "2024-01-10T13:41:14.137281",
     "exception": false,
     "start_time": "2024-01-10T13:39:21.380893",
     "status": "completed"
    },
    "tags": []
   },
   "outputs": [
    {
     "name": "stdout",
     "output_type": "stream",
     "text": [
      "Starting training of independent Random Forest models for 5 folds...\n",
      "Training models for target: healthy\n",
      "Training model for fold_1\n",
      "Completed training model for fold_1\n",
      "Training model for fold_2\n",
      "Completed training model for fold_2\n",
      "Training model for fold_3\n",
      "Completed training model for fold_3\n",
      "Training model for fold_4\n",
      "Completed training model for fold_4\n",
      "Training model for fold_5\n",
      "Completed training model for fold_5\n",
      "ok im done :)\n"
     ]
    }
   ],
   "source": [
    "cv_data_splits_healthy = generate_cv_splits(preprocessed_data, model_options_healthy)\n",
    "\n",
    "all_fold_models_healthy = train_models_on_cv_folds(cv_data_splits_healthy, model_options_healthy)\n",
    "\n",
    "performance_metrics_healthy = evaluate_model_performance(cv_data_splits_healthy, all_fold_models_healthy)"
   ]
  },
  {
   "cell_type": "code",
   "execution_count": 23,
   "id": "a16438ce",
   "metadata": {
    "execution": {
     "iopub.execute_input": "2024-01-10T13:41:14.160085Z",
     "iopub.status.busy": "2024-01-10T13:41:14.159735Z",
     "iopub.status.idle": "2024-01-10T13:41:14.165920Z",
     "shell.execute_reply": "2024-01-10T13:41:14.164630Z"
    },
    "papermill": {
     "duration": 0.02058,
     "end_time": "2024-01-10T13:41:14.168560",
     "exception": false,
     "start_time": "2024-01-10T13:41:14.147980",
     "status": "completed"
    },
    "tags": []
   },
   "outputs": [
    {
     "data": {
      "text/plain": [
       "{'fold_1_healthy_R2': 0.12916464785169657,\n",
       " 'fold_1_healthy_MSE': 0.018565709528774184,\n",
       " 'fold_2_healthy_R2': 0.13660799737475027,\n",
       " 'fold_2_healthy_MSE': 0.019885175051428318,\n",
       " 'fold_3_healthy_R2': 0.1433960121234893,\n",
       " 'fold_3_healthy_MSE': 0.019713786160609422,\n",
       " 'fold_4_healthy_R2': 0.12800670390045488,\n",
       " 'fold_4_healthy_MSE': 0.020549070909121808,\n",
       " 'fold_5_healthy_R2': 0.12776145009006024,\n",
       " 'fold_5_healthy_MSE': 0.02088543205375344}"
      ]
     },
     "execution_count": 23,
     "metadata": {},
     "output_type": "execute_result"
    }
   ],
   "source": [
    "performance_metrics_healthy"
   ]
  },
  {
   "cell_type": "markdown",
   "id": "2a3f8631",
   "metadata": {
    "papermill": {
     "duration": 0.01029,
     "end_time": "2024-01-10T13:41:14.190099",
     "exception": false,
     "start_time": "2024-01-10T13:41:14.179809",
     "status": "completed"
    },
    "tags": []
   },
   "source": [
    "For the 'healthy' target variable (Prevalence of healthy weight among children under five), the models perform modestly, with R-squared values between 0.12 and 0.14 and consistent MSE values. Additional model refinement and feature engineering may be beneficial to improve predictive accuracy."
   ]
  },
  {
   "cell_type": "markdown",
   "id": "bb6c9360",
   "metadata": {
    "papermill": {
     "duration": 0.00994,
     "end_time": "2024-01-10T13:41:14.210214",
     "exception": false,
     "start_time": "2024-01-10T13:41:14.200274",
     "status": "completed"
    },
    "tags": []
   },
   "source": [
    "## Modeling for target variable 'poorest'\n",
    "### Percentage of Households below the Comparative Threshold (assetindex ≤ -0.9080) for the Poorest Quintile of the Asset-Based Comparative Wealth Index\n",
    "#### cluster prevalence weighted at hh level"
   ]
  },
  {
   "cell_type": "code",
   "execution_count": 24,
   "id": "ead981d0",
   "metadata": {
    "execution": {
     "iopub.execute_input": "2024-01-10T13:41:14.234356Z",
     "iopub.status.busy": "2024-01-10T13:41:14.233717Z",
     "iopub.status.idle": "2024-01-10T13:43:06.821856Z",
     "shell.execute_reply": "2024-01-10T13:43:06.820767Z"
    },
    "papermill": {
     "duration": 112.603474,
     "end_time": "2024-01-10T13:43:06.824043",
     "exception": false,
     "start_time": "2024-01-10T13:41:14.220569",
     "status": "completed"
    },
    "tags": []
   },
   "outputs": [
    {
     "name": "stdout",
     "output_type": "stream",
     "text": [
      "Starting training of independent Random Forest models for 5 folds...\n",
      "Training models for target: poorest\n",
      "Training model for fold_1\n",
      "Completed training model for fold_1\n",
      "Training model for fold_2\n",
      "Completed training model for fold_2\n",
      "Training model for fold_3\n",
      "Completed training model for fold_3\n",
      "Training model for fold_4\n",
      "Completed training model for fold_4\n",
      "Training model for fold_5\n",
      "Completed training model for fold_5\n",
      "ok im done :)\n"
     ]
    }
   ],
   "source": [
    "cv_data_splits_poorest = generate_cv_splits(preprocessed_data, model_options_poorest)\n",
    "\n",
    "all_fold_models_poorest = train_models_on_cv_folds(cv_data_splits_poorest, model_options_poorest)\n",
    "\n",
    "performance_metrics_poorest = evaluate_model_performance(cv_data_splits_poorest, all_fold_models_poorest)"
   ]
  },
  {
   "cell_type": "code",
   "execution_count": 25,
   "id": "6fd64bbe",
   "metadata": {
    "execution": {
     "iopub.execute_input": "2024-01-10T13:43:06.847522Z",
     "iopub.status.busy": "2024-01-10T13:43:06.847190Z",
     "iopub.status.idle": "2024-01-10T13:43:06.853899Z",
     "shell.execute_reply": "2024-01-10T13:43:06.853201Z"
    },
    "papermill": {
     "duration": 0.020469,
     "end_time": "2024-01-10T13:43:06.855572",
     "exception": false,
     "start_time": "2024-01-10T13:43:06.835103",
     "status": "completed"
    },
    "tags": []
   },
   "outputs": [
    {
     "data": {
      "text/plain": [
       "{'fold_1_poorest_R2': 0.36165550630222143,\n",
       " 'fold_1_poorest_MSE': 0.05689562235980636,\n",
       " 'fold_2_poorest_R2': 0.3509485781630918,\n",
       " 'fold_2_poorest_MSE': 0.05352143977151113,\n",
       " 'fold_3_poorest_R2': 0.3706900014843789,\n",
       " 'fold_3_poorest_MSE': 0.0533273194382932,\n",
       " 'fold_4_poorest_R2': 0.3659549150350757,\n",
       " 'fold_4_poorest_MSE': 0.0577215392265688,\n",
       " 'fold_5_poorest_R2': 0.3678559314402866,\n",
       " 'fold_5_poorest_MSE': 0.056766932148470686}"
      ]
     },
     "execution_count": 25,
     "metadata": {},
     "output_type": "execute_result"
    }
   ],
   "source": [
    "performance_metrics_poorest"
   ]
  },
  {
   "cell_type": "markdown",
   "id": "2f77d251",
   "metadata": {
    "papermill": {
     "duration": 0.010832,
     "end_time": "2024-01-10T13:43:06.877692",
     "exception": false,
     "start_time": "2024-01-10T13:43:06.866860",
     "status": "completed"
    },
    "tags": []
   },
   "source": [
    "The 'poorest' target variable (Percentage of households below the Comparative Threshold) showcases relatively better performance, with R-squared values ranging from 0.34 to 0.37 and consistent MSE values. This suggests that the model is relatively effective in predicting this variable."
   ]
  },
  {
   "cell_type": "markdown",
   "id": "ec9b30b7",
   "metadata": {
    "papermill": {
     "duration": 0.010794,
     "end_time": "2024-01-10T13:43:06.899595",
     "exception": false,
     "start_time": "2024-01-10T13:43:06.888801",
     "status": "completed"
    },
    "tags": []
   },
   "source": [
    "## Modeling for target variable 'underweight_bmi'\n",
    "### Prevalence of underweight (BMI < 18.5) women of reproductive age\n",
    "#### cluster prevalence weighted at individual level"
   ]
  },
  {
   "cell_type": "code",
   "execution_count": 26,
   "id": "1072afb6",
   "metadata": {
    "execution": {
     "iopub.execute_input": "2024-01-10T13:43:06.923856Z",
     "iopub.status.busy": "2024-01-10T13:43:06.923199Z",
     "iopub.status.idle": "2024-01-10T13:44:59.030047Z",
     "shell.execute_reply": "2024-01-10T13:44:59.028908Z"
    },
    "papermill": {
     "duration": 112.122011,
     "end_time": "2024-01-10T13:44:59.032729",
     "exception": false,
     "start_time": "2024-01-10T13:43:06.910718",
     "status": "completed"
    },
    "tags": []
   },
   "outputs": [
    {
     "name": "stdout",
     "output_type": "stream",
     "text": [
      "Starting training of independent Random Forest models for 5 folds...\n",
      "Training models for target: underweight_bmi\n",
      "Training model for fold_1\n",
      "Completed training model for fold_1\n",
      "Training model for fold_2\n",
      "Completed training model for fold_2\n",
      "Training model for fold_3\n",
      "Completed training model for fold_3\n",
      "Training model for fold_4\n",
      "Completed training model for fold_4\n",
      "Training model for fold_5\n",
      "Completed training model for fold_5\n",
      "ok im done :)\n"
     ]
    }
   ],
   "source": [
    "cv_data_splits_underweight_bmi = generate_cv_splits(preprocessed_data, model_options_underweight_bmi)\n",
    "\n",
    "all_fold_models_underweight_bmi = train_models_on_cv_folds(cv_data_splits_underweight_bmi, model_options_underweight_bmi)\n",
    "\n",
    "performance_metrics_underweight_bmi = evaluate_model_performance(cv_data_splits_underweight_bmi, all_fold_models_underweight_bmi)"
   ]
  },
  {
   "cell_type": "code",
   "execution_count": 27,
   "id": "97a390ed",
   "metadata": {
    "execution": {
     "iopub.execute_input": "2024-01-10T13:44:59.058211Z",
     "iopub.status.busy": "2024-01-10T13:44:59.057884Z",
     "iopub.status.idle": "2024-01-10T13:44:59.064087Z",
     "shell.execute_reply": "2024-01-10T13:44:59.062977Z"
    },
    "papermill": {
     "duration": 0.022042,
     "end_time": "2024-01-10T13:44:59.066685",
     "exception": false,
     "start_time": "2024-01-10T13:44:59.044643",
     "status": "completed"
    },
    "tags": []
   },
   "outputs": [
    {
     "data": {
      "text/plain": [
       "{'fold_1_underweight_bmi_R2': 0.38778797547614385,\n",
       " 'fold_1_underweight_bmi_MSE': 0.012804047386395963,\n",
       " 'fold_2_underweight_bmi_R2': 0.35483380599213765,\n",
       " 'fold_2_underweight_bmi_MSE': 0.013133224715601414,\n",
       " 'fold_3_underweight_bmi_R2': 0.3404723659599226,\n",
       " 'fold_3_underweight_bmi_MSE': 0.013970080845448525,\n",
       " 'fold_4_underweight_bmi_R2': 0.370545205098881,\n",
       " 'fold_4_underweight_bmi_MSE': 0.013436298287742721,\n",
       " 'fold_5_underweight_bmi_R2': 0.3765941222128132,\n",
       " 'fold_5_underweight_bmi_MSE': 0.01264371040822323}"
      ]
     },
     "execution_count": 27,
     "metadata": {},
     "output_type": "execute_result"
    }
   ],
   "source": [
    "performance_metrics_underweight_bmi"
   ]
  },
  {
   "cell_type": "markdown",
   "id": "8fc5d31b",
   "metadata": {
    "papermill": {
     "duration": 0.011119,
     "end_time": "2024-01-10T13:44:59.089943",
     "exception": false,
     "start_time": "2024-01-10T13:44:59.078824",
     "status": "completed"
    },
    "tags": []
   },
   "source": [
    "Lastly, for the 'underweight_bmi' target variable (Prevalence of underweight women of reproductive age), the Random Forest models perform well, with R-squared values ranging from 0.34 to 0.39 and consistent MSE values. This indicates that the model has a good level of predictive accuracy for this particular variable."
   ]
  },
  {
   "cell_type": "markdown",
   "id": "a560105d",
   "metadata": {
    "papermill": {
     "duration": 0.011015,
     "end_time": "2024-01-10T13:44:59.112073",
     "exception": false,
     "start_time": "2024-01-10T13:44:59.101058",
     "status": "completed"
    },
    "tags": []
   },
   "source": [
    "### RF method: joint\n",
    "##### Contrary to the independent approach, the joint method involves training a single Random Forest model that predicts all outcomes simultaneously. This method takes into account the potential correlations and interdependencies between different outcome variables. It uses a technique to orthogonalize the data (making it independent) and then applies the Random Forest on these transformed outcomes. After prediction, the results are transformed back. This approach can potentially provide more accurate predictions, especially when the outcomes are interrelated."
   ]
  },
  {
   "cell_type": "code",
   "execution_count": 28,
   "id": "eb11886b",
   "metadata": {
    "execution": {
     "iopub.execute_input": "2024-01-10T13:44:59.135952Z",
     "iopub.status.busy": "2024-01-10T13:44:59.135612Z",
     "iopub.status.idle": "2024-01-10T13:44:59.140793Z",
     "shell.execute_reply": "2024-01-10T13:44:59.139213Z"
    },
    "papermill": {
     "duration": 0.019669,
     "end_time": "2024-01-10T13:44:59.142970",
     "exception": false,
     "start_time": "2024-01-10T13:44:59.123301",
     "status": "completed"
    },
    "tags": []
   },
   "outputs": [],
   "source": [
    "# I WILL TRY TO CREATE THIS :) "
   ]
  },
  {
   "cell_type": "markdown",
   "id": "05793f4d",
   "metadata": {
    "papermill": {
     "duration": 0.014758,
     "end_time": "2024-01-10T13:44:59.171608",
     "exception": false,
     "start_time": "2024-01-10T13:44:59.156850",
     "status": "completed"
    },
    "tags": []
   },
   "source": [
    "# Sequential Nowcasting next\n"
   ]
  },
  {
   "cell_type": "code",
   "execution_count": 29,
   "id": "25b6ca54",
   "metadata": {
    "execution": {
     "iopub.execute_input": "2024-01-10T13:44:59.201409Z",
     "iopub.status.busy": "2024-01-10T13:44:59.200984Z",
     "iopub.status.idle": "2024-01-10T13:44:59.205560Z",
     "shell.execute_reply": "2024-01-10T13:44:59.204622Z"
    },
    "papermill": {
     "duration": 0.021775,
     "end_time": "2024-01-10T13:44:59.207813",
     "exception": false,
     "start_time": "2024-01-10T13:44:59.186038",
     "status": "completed"
    },
    "tags": []
   },
   "outputs": [],
   "source": [
    "# AND ALSO THIS :)"
   ]
  }
 ],
 "metadata": {
  "kaggle": {
   "accelerator": "none",
   "dataSources": [
    {
     "datasetId": 4251279,
     "sourceId": 7325201,
     "sourceType": "datasetVersion"
    },
    {
     "datasetId": 4277066,
     "sourceId": 7372141,
     "sourceType": "datasetVersion"
    }
   ],
   "dockerImageVersionId": 30626,
   "isGpuEnabled": false,
   "isInternetEnabled": true,
   "language": "python",
   "sourceType": "notebook"
  },
  "kernelspec": {
   "display_name": "Python 3",
   "language": "python",
   "name": "python3"
  },
  "language_info": {
   "codemirror_mode": {
    "name": "ipython",
    "version": 3
   },
   "file_extension": ".py",
   "mimetype": "text/x-python",
   "name": "python",
   "nbconvert_exporter": "python",
   "pygments_lexer": "ipython3",
   "version": "3.10.12"
  },
  "papermill": {
   "default_parameters": {},
   "duration": 569.769675,
   "end_time": "2024-01-10T13:44:59.841784",
   "environment_variables": {},
   "exception": null,
   "input_path": "__notebook__.ipynb",
   "output_path": "__notebook__.ipynb",
   "parameters": {},
   "start_time": "2024-01-10T13:35:30.072109",
   "version": "2.4.0"
  }
 },
 "nbformat": 4,
 "nbformat_minor": 5
}
