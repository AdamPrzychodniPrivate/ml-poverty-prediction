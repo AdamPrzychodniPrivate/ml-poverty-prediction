{
  "cells": [
    {
      "cell_type": "markdown",
      "source": [
        "# Run this notebook in Colab"
      ],
      "metadata": {
        "id": "qsaeWfg4x3_k"
      },
      "id": "qsaeWfg4x3_k"
    },
    {
      "cell_type": "markdown",
      "source": [
        "## Add data from repo to your disk"
      ],
      "metadata": {
        "id": "0Tc8pr5wyRdV"
      },
      "id": "0Tc8pr5wyRdV"
    },
    {
      "cell_type": "markdown",
      "source": [
        "# Install dependencies"
      ],
      "metadata": {
        "id": "gkLuyVIyHr7Y"
      },
      "id": "gkLuyVIyHr7Y"
    },
    {
      "cell_type": "code",
      "source": [
        "%%capture\n",
        "import sys\n",
        "!{sys.executable} -m pip install -U ydata-profiling[notebook]\n",
        "!jupyter nbextension enable --py widgetsnbextension"
      ],
      "metadata": {
        "id": "zlZdt2R4HnAO"
      },
      "id": "zlZdt2R4HnAO",
      "execution_count": 1,
      "outputs": []
    },
    {
      "cell_type": "markdown",
      "source": [
        "# Import libraries"
      ],
      "metadata": {
        "id": "72921sORHJdZ"
      },
      "id": "72921sORHJdZ"
    },
    {
      "cell_type": "code",
      "source": [
        "import numpy as np\n",
        "import pandas as pd\n",
        "import matplotlib.pyplot as plt\n",
        "from ydata_profiling import ProfileReport"
      ],
      "metadata": {
        "id": "m4PRHVb9yOGM"
      },
      "id": "m4PRHVb9yOGM",
      "execution_count": 2,
      "outputs": []
    },
    {
      "cell_type": "code",
      "source": [],
      "metadata": {
        "id": "gcNFBaWax138"
      },
      "id": "gcNFBaWax138",
      "execution_count": 2,
      "outputs": []
    }
  ],
  "metadata": {
    "kernelspec": {
      "display_name": "Python 3",
      "language": "python",
      "name": "python3"
    },
    "language_info": {
      "codemirror_mode": {
        "name": "ipython",
        "version": 2
      },
      "file_extension": ".py",
      "mimetype": "text/x-python",
      "name": "python",
      "nbconvert_exporter": "python",
      "pygments_lexer": "ipython2",
      "version": "2.7.6"
    },
    "colab": {
      "provenance": [],
      "toc_visible": true
    }
  },
  "nbformat": 4,
  "nbformat_minor": 5
}